{
  "nbformat": 4,
  "nbformat_minor": 0,
  "metadata": {
    "colab": {
      "name": "Simple Neural Networks.ipynb",
      "provenance": [],
      "collapsed_sections": []
    },
    "kernelspec": {
      "name": "python3",
      "display_name": "Python 3"
    },
    "language_info": {
      "name": "python"
    }
  },
  "cells": [
    {
      "cell_type": "markdown",
      "source": [
        "In this assignment you will create a simple network using dense layers.  You will also create 2 more versions of it where you adjust the number of layers and neurons per layer to see if you can achieve better performance.\n",
        "\n",
        "Task: Create a deep learning model to predict heart disease in populations at risk.  \n",
        "\n",
        "Data Source: Kaggle Heart Disease Dataset (https://www.kaggle.com/fedesoriano/heart-failure-prediction)\n",
        "\n",
        "Direct link to data: heart.csv (https://docs.google.com/spreadsheets/d/e/2PACX-1vTRfoQAojPwNsw33zUSpBg32DuK2z0WvLPptGOncIXa38tN3RWk9puvelcmsIIhFb_XF12RD7PdqCwf/pub?output=csv)\n",
        "\n",
        "TASK: Use a neural network to predict heart disease using the given data.\n",
        "\n",
        "Make sure you:\n",
        "\n",
        "1. Explore and clean the data if needed\n",
        "2. Perform a train-test split on your data\n",
        "3. Use a column transformer to scale the numeric features and one-hot encode the categorical features.\n",
        "4. Define your base sequential model\n",
        "5. Include the number of features of each sample in your input layer\n",
        "6. Use the correct activation function and the correct number of neurons for your output layer\n",
        "7. Compile your model with the correct loss function and an optimizer (‘adam’ is a fine choice)\n",
        "8. Plot your model’s training history.\n",
        "9. Evaluate your models with appropriate metrics.\n",
        "\n",
        "After you’ve created, fit, and evaluated your first model, try 2 more versions of it with different numbers of layers and neurons to see if you can create a model that scores better on the testing data.\n",
        "\n",
        "**Data Dictionary:**\n",
        "\n",
        "- Age: age of the patient [years]\n",
        "- Sex: sex of the patient [M: Male, F: Female]\n",
        "- ChestPainType: chest pain type [TA: Typical Angina, ATA: Atypical Angina, NAP: Non-Anginal Pain, ASY: Asymptomatic]\n",
        "- RestingBP: resting blood pressure [mm Hg]\n",
        "- Cholesterol: serum cholesterol [mm/dl]\n",
        "- FastingBS: fasting blood sugar [1: if FastingBS > 120 mg/dl, 0: otherwise]\n",
        "- RestingECG: resting electrocardiogram results [Normal: Normal, ST: having ST-T wave abnormality (T wave inversions and/or ST elevation or depression of > 0.05 mV), LVH: showing probable or definite left ventricular hypertrophy by Estes' criteria]\n",
        "- MaxHR: maximum heart rate achieved [Numeric value between 60 and 202]\n",
        "- ExerciseAngina: exercise-induced angina [Y: Yes, N: No]\n",
        "- Oldpeak: oldpeak = ST [Numeric value measured in depression]\n",
        "- ST_Slope: the slope of the peak exercise ST segment [Up: upsloping, Flat: flat, Down: downsloping]\n",
        "- HeartDisease: output class [1: heart disease, 0: Normal]\n",
        "\n",
        "\n"
      ],
      "metadata": {
        "id": "bxLHcHRFFJWH"
      }
    },
    {
      "cell_type": "markdown",
      "source": [
        "Mount Data"
      ],
      "metadata": {
        "id": "1C2Cep5YF6G6"
      }
    },
    {
      "cell_type": "code",
      "source": [
        "from google.colab import drive\n",
        "drive.mount('/content/drive')"
      ],
      "metadata": {
        "colab": {
          "base_uri": "https://localhost:8080/"
        },
        "id": "OsEY2RLiF81W",
        "outputId": "99fede57-f0e8-4e11-e32c-94029cf227b3"
      },
      "execution_count": 107,
      "outputs": [
        {
          "output_type": "stream",
          "name": "stdout",
          "text": [
            "Drive already mounted at /content/drive; to attempt to forcibly remount, call drive.mount(\"/content/drive\", force_remount=True).\n"
          ]
        }
      ]
    },
    {
      "cell_type": "markdown",
      "source": [
        "Import Libraries"
      ],
      "metadata": {
        "id": "Rx58ZhBpFtnY"
      }
    },
    {
      "cell_type": "code",
      "execution_count": 108,
      "metadata": {
        "id": "9yUR-Fn6E_aP"
      },
      "outputs": [],
      "source": [
        "import numpy as np\n",
        "import pandas as pd\n",
        "import matplotlib.pyplot as plt\n",
        "from seaborn import heatmap\n",
        "\n",
        "from sklearn.impute import SimpleImputer\n",
        "from sklearn.pipeline import make_pipeline\n",
        "from sklearn.compose import make_column_selector, make_column_transformer\n",
        "from sklearn.preprocessing import StandardScaler, OneHotEncoder\n",
        "from sklearn.model_selection import train_test_split\n",
        "from sklearn.metrics import classification_report, confusion_matrix\n",
        "\n",
        "import tensorflow.keras as keras\n",
        "from tensorflow.keras.models import Sequential\n",
        "from tensorflow.keras.layers import Dense\n",
        "\n",
        "from sklearn import set_config\n",
        "set_config(display='diagram')\n",
        "\n"
      ]
    },
    {
      "cell_type": "markdown",
      "source": [
        "Import Data"
      ],
      "metadata": {
        "id": "j6AZzwCTGspn"
      }
    },
    {
      "cell_type": "code",
      "source": [
        "heart_df = pd.read_csv('/content/drive/MyDrive/Coding Dojo Data Science Boot Camp/Excel Files/heart - heart.csv')\n",
        "heart_df.head()"
      ],
      "metadata": {
        "colab": {
          "base_uri": "https://localhost:8080/",
          "height": 206
        },
        "id": "FTPg0jaHGt3s",
        "outputId": "2f6cd0bc-ead4-406e-9e7e-c87f343a25b3"
      },
      "execution_count": 109,
      "outputs": [
        {
          "output_type": "execute_result",
          "data": {
            "text/html": [
              "\n",
              "  <div id=\"df-b3d1fdce-eb55-47d8-978b-0ca1bfe1828b\">\n",
              "    <div class=\"colab-df-container\">\n",
              "      <div>\n",
              "<style scoped>\n",
              "    .dataframe tbody tr th:only-of-type {\n",
              "        vertical-align: middle;\n",
              "    }\n",
              "\n",
              "    .dataframe tbody tr th {\n",
              "        vertical-align: top;\n",
              "    }\n",
              "\n",
              "    .dataframe thead th {\n",
              "        text-align: right;\n",
              "    }\n",
              "</style>\n",
              "<table border=\"1\" class=\"dataframe\">\n",
              "  <thead>\n",
              "    <tr style=\"text-align: right;\">\n",
              "      <th></th>\n",
              "      <th>Age</th>\n",
              "      <th>Sex</th>\n",
              "      <th>ChestPainType</th>\n",
              "      <th>RestingBP</th>\n",
              "      <th>Cholesterol</th>\n",
              "      <th>FastingBS</th>\n",
              "      <th>RestingECG</th>\n",
              "      <th>MaxHR</th>\n",
              "      <th>ExerciseAngina</th>\n",
              "      <th>Oldpeak</th>\n",
              "      <th>ST_Slope</th>\n",
              "      <th>HeartDisease</th>\n",
              "    </tr>\n",
              "  </thead>\n",
              "  <tbody>\n",
              "    <tr>\n",
              "      <th>0</th>\n",
              "      <td>40</td>\n",
              "      <td>M</td>\n",
              "      <td>ATA</td>\n",
              "      <td>140</td>\n",
              "      <td>289</td>\n",
              "      <td>0</td>\n",
              "      <td>Normal</td>\n",
              "      <td>172</td>\n",
              "      <td>N</td>\n",
              "      <td>0.0</td>\n",
              "      <td>Up</td>\n",
              "      <td>0</td>\n",
              "    </tr>\n",
              "    <tr>\n",
              "      <th>1</th>\n",
              "      <td>49</td>\n",
              "      <td>F</td>\n",
              "      <td>NAP</td>\n",
              "      <td>160</td>\n",
              "      <td>180</td>\n",
              "      <td>0</td>\n",
              "      <td>Normal</td>\n",
              "      <td>156</td>\n",
              "      <td>N</td>\n",
              "      <td>1.0</td>\n",
              "      <td>Flat</td>\n",
              "      <td>1</td>\n",
              "    </tr>\n",
              "    <tr>\n",
              "      <th>2</th>\n",
              "      <td>37</td>\n",
              "      <td>M</td>\n",
              "      <td>ATA</td>\n",
              "      <td>130</td>\n",
              "      <td>283</td>\n",
              "      <td>0</td>\n",
              "      <td>ST</td>\n",
              "      <td>98</td>\n",
              "      <td>N</td>\n",
              "      <td>0.0</td>\n",
              "      <td>Up</td>\n",
              "      <td>0</td>\n",
              "    </tr>\n",
              "    <tr>\n",
              "      <th>3</th>\n",
              "      <td>48</td>\n",
              "      <td>F</td>\n",
              "      <td>ASY</td>\n",
              "      <td>138</td>\n",
              "      <td>214</td>\n",
              "      <td>0</td>\n",
              "      <td>Normal</td>\n",
              "      <td>108</td>\n",
              "      <td>Y</td>\n",
              "      <td>1.5</td>\n",
              "      <td>Flat</td>\n",
              "      <td>1</td>\n",
              "    </tr>\n",
              "    <tr>\n",
              "      <th>4</th>\n",
              "      <td>54</td>\n",
              "      <td>M</td>\n",
              "      <td>NAP</td>\n",
              "      <td>150</td>\n",
              "      <td>195</td>\n",
              "      <td>0</td>\n",
              "      <td>Normal</td>\n",
              "      <td>122</td>\n",
              "      <td>N</td>\n",
              "      <td>0.0</td>\n",
              "      <td>Up</td>\n",
              "      <td>0</td>\n",
              "    </tr>\n",
              "  </tbody>\n",
              "</table>\n",
              "</div>\n",
              "      <button class=\"colab-df-convert\" onclick=\"convertToInteractive('df-b3d1fdce-eb55-47d8-978b-0ca1bfe1828b')\"\n",
              "              title=\"Convert this dataframe to an interactive table.\"\n",
              "              style=\"display:none;\">\n",
              "        \n",
              "  <svg xmlns=\"http://www.w3.org/2000/svg\" height=\"24px\"viewBox=\"0 0 24 24\"\n",
              "       width=\"24px\">\n",
              "    <path d=\"M0 0h24v24H0V0z\" fill=\"none\"/>\n",
              "    <path d=\"M18.56 5.44l.94 2.06.94-2.06 2.06-.94-2.06-.94-.94-2.06-.94 2.06-2.06.94zm-11 1L8.5 8.5l.94-2.06 2.06-.94-2.06-.94L8.5 2.5l-.94 2.06-2.06.94zm10 10l.94 2.06.94-2.06 2.06-.94-2.06-.94-.94-2.06-.94 2.06-2.06.94z\"/><path d=\"M17.41 7.96l-1.37-1.37c-.4-.4-.92-.59-1.43-.59-.52 0-1.04.2-1.43.59L10.3 9.45l-7.72 7.72c-.78.78-.78 2.05 0 2.83L4 21.41c.39.39.9.59 1.41.59.51 0 1.02-.2 1.41-.59l7.78-7.78 2.81-2.81c.8-.78.8-2.07 0-2.86zM5.41 20L4 18.59l7.72-7.72 1.47 1.35L5.41 20z\"/>\n",
              "  </svg>\n",
              "      </button>\n",
              "      \n",
              "  <style>\n",
              "    .colab-df-container {\n",
              "      display:flex;\n",
              "      flex-wrap:wrap;\n",
              "      gap: 12px;\n",
              "    }\n",
              "\n",
              "    .colab-df-convert {\n",
              "      background-color: #E8F0FE;\n",
              "      border: none;\n",
              "      border-radius: 50%;\n",
              "      cursor: pointer;\n",
              "      display: none;\n",
              "      fill: #1967D2;\n",
              "      height: 32px;\n",
              "      padding: 0 0 0 0;\n",
              "      width: 32px;\n",
              "    }\n",
              "\n",
              "    .colab-df-convert:hover {\n",
              "      background-color: #E2EBFA;\n",
              "      box-shadow: 0px 1px 2px rgba(60, 64, 67, 0.3), 0px 1px 3px 1px rgba(60, 64, 67, 0.15);\n",
              "      fill: #174EA6;\n",
              "    }\n",
              "\n",
              "    [theme=dark] .colab-df-convert {\n",
              "      background-color: #3B4455;\n",
              "      fill: #D2E3FC;\n",
              "    }\n",
              "\n",
              "    [theme=dark] .colab-df-convert:hover {\n",
              "      background-color: #434B5C;\n",
              "      box-shadow: 0px 1px 3px 1px rgba(0, 0, 0, 0.15);\n",
              "      filter: drop-shadow(0px 1px 2px rgba(0, 0, 0, 0.3));\n",
              "      fill: #FFFFFF;\n",
              "    }\n",
              "  </style>\n",
              "\n",
              "      <script>\n",
              "        const buttonEl =\n",
              "          document.querySelector('#df-b3d1fdce-eb55-47d8-978b-0ca1bfe1828b button.colab-df-convert');\n",
              "        buttonEl.style.display =\n",
              "          google.colab.kernel.accessAllowed ? 'block' : 'none';\n",
              "\n",
              "        async function convertToInteractive(key) {\n",
              "          const element = document.querySelector('#df-b3d1fdce-eb55-47d8-978b-0ca1bfe1828b');\n",
              "          const dataTable =\n",
              "            await google.colab.kernel.invokeFunction('convertToInteractive',\n",
              "                                                     [key], {});\n",
              "          if (!dataTable) return;\n",
              "\n",
              "          const docLinkHtml = 'Like what you see? Visit the ' +\n",
              "            '<a target=\"_blank\" href=https://colab.research.google.com/notebooks/data_table.ipynb>data table notebook</a>'\n",
              "            + ' to learn more about interactive tables.';\n",
              "          element.innerHTML = '';\n",
              "          dataTable['output_type'] = 'display_data';\n",
              "          await google.colab.output.renderOutput(dataTable, element);\n",
              "          const docLink = document.createElement('div');\n",
              "          docLink.innerHTML = docLinkHtml;\n",
              "          element.appendChild(docLink);\n",
              "        }\n",
              "      </script>\n",
              "    </div>\n",
              "  </div>\n",
              "  "
            ],
            "text/plain": [
              "   Age Sex ChestPainType  ...  Oldpeak  ST_Slope  HeartDisease\n",
              "0   40   M           ATA  ...      0.0        Up             0\n",
              "1   49   F           NAP  ...      1.0      Flat             1\n",
              "2   37   M           ATA  ...      0.0        Up             0\n",
              "3   48   F           ASY  ...      1.5      Flat             1\n",
              "4   54   M           NAP  ...      0.0        Up             0\n",
              "\n",
              "[5 rows x 12 columns]"
            ]
          },
          "metadata": {},
          "execution_count": 109
        }
      ]
    },
    {
      "cell_type": "markdown",
      "source": [
        "# Classification Problem\n",
        "\n",
        "This is a binary classification probelm that will try to determine whether an individual has Heart Disease or Not"
      ],
      "metadata": {
        "id": "RCFHCLSyIHE7"
      }
    },
    {
      "cell_type": "markdown",
      "source": [
        "# 1) Explore and Clean the data"
      ],
      "metadata": {
        "id": "C6_6wxccIWO9"
      }
    },
    {
      "cell_type": "code",
      "source": [
        "# Check for any duplicates in the data frame\n",
        "heart_df.duplicated().any()"
      ],
      "metadata": {
        "colab": {
          "base_uri": "https://localhost:8080/"
        },
        "id": "K5lIzZixIUXz",
        "outputId": "5daa514d-e057-4109-bafc-7a51dd67dc12"
      },
      "execution_count": 110,
      "outputs": [
        {
          "output_type": "execute_result",
          "data": {
            "text/plain": [
              "False"
            ]
          },
          "metadata": {},
          "execution_count": 110
        }
      ]
    },
    {
      "cell_type": "markdown",
      "source": [
        "There are no duplicates"
      ],
      "metadata": {
        "id": "-TIuuKwZJKQb"
      }
    },
    {
      "cell_type": "code",
      "source": [
        "# Check to see if there are any columns with missing data\n",
        "heart_df.info()"
      ],
      "metadata": {
        "colab": {
          "base_uri": "https://localhost:8080/"
        },
        "id": "-icYcN4TIizJ",
        "outputId": "70012eb7-8962-41c1-f357-acf6397808b9"
      },
      "execution_count": 111,
      "outputs": [
        {
          "output_type": "stream",
          "name": "stdout",
          "text": [
            "<class 'pandas.core.frame.DataFrame'>\n",
            "RangeIndex: 918 entries, 0 to 917\n",
            "Data columns (total 12 columns):\n",
            " #   Column          Non-Null Count  Dtype  \n",
            "---  ------          --------------  -----  \n",
            " 0   Age             918 non-null    int64  \n",
            " 1   Sex             918 non-null    object \n",
            " 2   ChestPainType   918 non-null    object \n",
            " 3   RestingBP       918 non-null    int64  \n",
            " 4   Cholesterol     918 non-null    int64  \n",
            " 5   FastingBS       918 non-null    int64  \n",
            " 6   RestingECG      918 non-null    object \n",
            " 7   MaxHR           918 non-null    int64  \n",
            " 8   ExerciseAngina  918 non-null    object \n",
            " 9   Oldpeak         918 non-null    float64\n",
            " 10  ST_Slope        918 non-null    object \n",
            " 11  HeartDisease    918 non-null    int64  \n",
            "dtypes: float64(1), int64(6), object(5)\n",
            "memory usage: 86.2+ KB\n"
          ]
        }
      ]
    },
    {
      "cell_type": "markdown",
      "source": [
        "There are no missing columns in the dataset. "
      ],
      "metadata": {
        "id": "4KcsB-qRJe0k"
      }
    },
    {
      "cell_type": "code",
      "source": [
        "# Look for any numerical inconsistencies / irregularities in the numerical fatures\n",
        "heart_df.describe()"
      ],
      "metadata": {
        "colab": {
          "base_uri": "https://localhost:8080/",
          "height": 300
        },
        "id": "se1Ug1b6JpJk",
        "outputId": "fa9d1933-d878-43da-a990-19dd2a05de9c"
      },
      "execution_count": 112,
      "outputs": [
        {
          "output_type": "execute_result",
          "data": {
            "text/html": [
              "\n",
              "  <div id=\"df-91f0f47b-013b-4053-8052-7b0fe6065990\">\n",
              "    <div class=\"colab-df-container\">\n",
              "      <div>\n",
              "<style scoped>\n",
              "    .dataframe tbody tr th:only-of-type {\n",
              "        vertical-align: middle;\n",
              "    }\n",
              "\n",
              "    .dataframe tbody tr th {\n",
              "        vertical-align: top;\n",
              "    }\n",
              "\n",
              "    .dataframe thead th {\n",
              "        text-align: right;\n",
              "    }\n",
              "</style>\n",
              "<table border=\"1\" class=\"dataframe\">\n",
              "  <thead>\n",
              "    <tr style=\"text-align: right;\">\n",
              "      <th></th>\n",
              "      <th>Age</th>\n",
              "      <th>RestingBP</th>\n",
              "      <th>Cholesterol</th>\n",
              "      <th>FastingBS</th>\n",
              "      <th>MaxHR</th>\n",
              "      <th>Oldpeak</th>\n",
              "      <th>HeartDisease</th>\n",
              "    </tr>\n",
              "  </thead>\n",
              "  <tbody>\n",
              "    <tr>\n",
              "      <th>count</th>\n",
              "      <td>918.000000</td>\n",
              "      <td>918.000000</td>\n",
              "      <td>918.000000</td>\n",
              "      <td>918.000000</td>\n",
              "      <td>918.000000</td>\n",
              "      <td>918.000000</td>\n",
              "      <td>918.000000</td>\n",
              "    </tr>\n",
              "    <tr>\n",
              "      <th>mean</th>\n",
              "      <td>53.510893</td>\n",
              "      <td>132.396514</td>\n",
              "      <td>198.799564</td>\n",
              "      <td>0.233115</td>\n",
              "      <td>136.809368</td>\n",
              "      <td>0.887364</td>\n",
              "      <td>0.553377</td>\n",
              "    </tr>\n",
              "    <tr>\n",
              "      <th>std</th>\n",
              "      <td>9.432617</td>\n",
              "      <td>18.514154</td>\n",
              "      <td>109.384145</td>\n",
              "      <td>0.423046</td>\n",
              "      <td>25.460334</td>\n",
              "      <td>1.066570</td>\n",
              "      <td>0.497414</td>\n",
              "    </tr>\n",
              "    <tr>\n",
              "      <th>min</th>\n",
              "      <td>28.000000</td>\n",
              "      <td>0.000000</td>\n",
              "      <td>0.000000</td>\n",
              "      <td>0.000000</td>\n",
              "      <td>60.000000</td>\n",
              "      <td>-2.600000</td>\n",
              "      <td>0.000000</td>\n",
              "    </tr>\n",
              "    <tr>\n",
              "      <th>25%</th>\n",
              "      <td>47.000000</td>\n",
              "      <td>120.000000</td>\n",
              "      <td>173.250000</td>\n",
              "      <td>0.000000</td>\n",
              "      <td>120.000000</td>\n",
              "      <td>0.000000</td>\n",
              "      <td>0.000000</td>\n",
              "    </tr>\n",
              "    <tr>\n",
              "      <th>50%</th>\n",
              "      <td>54.000000</td>\n",
              "      <td>130.000000</td>\n",
              "      <td>223.000000</td>\n",
              "      <td>0.000000</td>\n",
              "      <td>138.000000</td>\n",
              "      <td>0.600000</td>\n",
              "      <td>1.000000</td>\n",
              "    </tr>\n",
              "    <tr>\n",
              "      <th>75%</th>\n",
              "      <td>60.000000</td>\n",
              "      <td>140.000000</td>\n",
              "      <td>267.000000</td>\n",
              "      <td>0.000000</td>\n",
              "      <td>156.000000</td>\n",
              "      <td>1.500000</td>\n",
              "      <td>1.000000</td>\n",
              "    </tr>\n",
              "    <tr>\n",
              "      <th>max</th>\n",
              "      <td>77.000000</td>\n",
              "      <td>200.000000</td>\n",
              "      <td>603.000000</td>\n",
              "      <td>1.000000</td>\n",
              "      <td>202.000000</td>\n",
              "      <td>6.200000</td>\n",
              "      <td>1.000000</td>\n",
              "    </tr>\n",
              "  </tbody>\n",
              "</table>\n",
              "</div>\n",
              "      <button class=\"colab-df-convert\" onclick=\"convertToInteractive('df-91f0f47b-013b-4053-8052-7b0fe6065990')\"\n",
              "              title=\"Convert this dataframe to an interactive table.\"\n",
              "              style=\"display:none;\">\n",
              "        \n",
              "  <svg xmlns=\"http://www.w3.org/2000/svg\" height=\"24px\"viewBox=\"0 0 24 24\"\n",
              "       width=\"24px\">\n",
              "    <path d=\"M0 0h24v24H0V0z\" fill=\"none\"/>\n",
              "    <path d=\"M18.56 5.44l.94 2.06.94-2.06 2.06-.94-2.06-.94-.94-2.06-.94 2.06-2.06.94zm-11 1L8.5 8.5l.94-2.06 2.06-.94-2.06-.94L8.5 2.5l-.94 2.06-2.06.94zm10 10l.94 2.06.94-2.06 2.06-.94-2.06-.94-.94-2.06-.94 2.06-2.06.94z\"/><path d=\"M17.41 7.96l-1.37-1.37c-.4-.4-.92-.59-1.43-.59-.52 0-1.04.2-1.43.59L10.3 9.45l-7.72 7.72c-.78.78-.78 2.05 0 2.83L4 21.41c.39.39.9.59 1.41.59.51 0 1.02-.2 1.41-.59l7.78-7.78 2.81-2.81c.8-.78.8-2.07 0-2.86zM5.41 20L4 18.59l7.72-7.72 1.47 1.35L5.41 20z\"/>\n",
              "  </svg>\n",
              "      </button>\n",
              "      \n",
              "  <style>\n",
              "    .colab-df-container {\n",
              "      display:flex;\n",
              "      flex-wrap:wrap;\n",
              "      gap: 12px;\n",
              "    }\n",
              "\n",
              "    .colab-df-convert {\n",
              "      background-color: #E8F0FE;\n",
              "      border: none;\n",
              "      border-radius: 50%;\n",
              "      cursor: pointer;\n",
              "      display: none;\n",
              "      fill: #1967D2;\n",
              "      height: 32px;\n",
              "      padding: 0 0 0 0;\n",
              "      width: 32px;\n",
              "    }\n",
              "\n",
              "    .colab-df-convert:hover {\n",
              "      background-color: #E2EBFA;\n",
              "      box-shadow: 0px 1px 2px rgba(60, 64, 67, 0.3), 0px 1px 3px 1px rgba(60, 64, 67, 0.15);\n",
              "      fill: #174EA6;\n",
              "    }\n",
              "\n",
              "    [theme=dark] .colab-df-convert {\n",
              "      background-color: #3B4455;\n",
              "      fill: #D2E3FC;\n",
              "    }\n",
              "\n",
              "    [theme=dark] .colab-df-convert:hover {\n",
              "      background-color: #434B5C;\n",
              "      box-shadow: 0px 1px 3px 1px rgba(0, 0, 0, 0.15);\n",
              "      filter: drop-shadow(0px 1px 2px rgba(0, 0, 0, 0.3));\n",
              "      fill: #FFFFFF;\n",
              "    }\n",
              "  </style>\n",
              "\n",
              "      <script>\n",
              "        const buttonEl =\n",
              "          document.querySelector('#df-91f0f47b-013b-4053-8052-7b0fe6065990 button.colab-df-convert');\n",
              "        buttonEl.style.display =\n",
              "          google.colab.kernel.accessAllowed ? 'block' : 'none';\n",
              "\n",
              "        async function convertToInteractive(key) {\n",
              "          const element = document.querySelector('#df-91f0f47b-013b-4053-8052-7b0fe6065990');\n",
              "          const dataTable =\n",
              "            await google.colab.kernel.invokeFunction('convertToInteractive',\n",
              "                                                     [key], {});\n",
              "          if (!dataTable) return;\n",
              "\n",
              "          const docLinkHtml = 'Like what you see? Visit the ' +\n",
              "            '<a target=\"_blank\" href=https://colab.research.google.com/notebooks/data_table.ipynb>data table notebook</a>'\n",
              "            + ' to learn more about interactive tables.';\n",
              "          element.innerHTML = '';\n",
              "          dataTable['output_type'] = 'display_data';\n",
              "          await google.colab.output.renderOutput(dataTable, element);\n",
              "          const docLink = document.createElement('div');\n",
              "          docLink.innerHTML = docLinkHtml;\n",
              "          element.appendChild(docLink);\n",
              "        }\n",
              "      </script>\n",
              "    </div>\n",
              "  </div>\n",
              "  "
            ],
            "text/plain": [
              "              Age   RestingBP  ...     Oldpeak  HeartDisease\n",
              "count  918.000000  918.000000  ...  918.000000    918.000000\n",
              "mean    53.510893  132.396514  ...    0.887364      0.553377\n",
              "std      9.432617   18.514154  ...    1.066570      0.497414\n",
              "min     28.000000    0.000000  ...   -2.600000      0.000000\n",
              "25%     47.000000  120.000000  ...    0.000000      0.000000\n",
              "50%     54.000000  130.000000  ...    0.600000      1.000000\n",
              "75%     60.000000  140.000000  ...    1.500000      1.000000\n",
              "max     77.000000  200.000000  ...    6.200000      1.000000\n",
              "\n",
              "[8 rows x 7 columns]"
            ]
          },
          "metadata": {},
          "execution_count": 112
        }
      ]
    },
    {
      "cell_type": "markdown",
      "source": [
        "There can be no cholesterol or resting BP of 0. Fasting Blood Sugar is binary as a >120mg/dl is a 1 and <120mg/dl is a 0. Let's drop the zero values for cholesterol and resting BP."
      ],
      "metadata": {
        "id": "_q4UtXxgKPxY"
      }
    },
    {
      "cell_type": "code",
      "source": [
        "heart_df.loc[heart_df['RestingBP'] == 0, : ]\n"
      ],
      "metadata": {
        "colab": {
          "base_uri": "https://localhost:8080/",
          "height": 81
        },
        "id": "ROSf6awmKo_b",
        "outputId": "dfff2f19-d1f7-444d-a702-b51d06d838f7"
      },
      "execution_count": 113,
      "outputs": [
        {
          "output_type": "execute_result",
          "data": {
            "text/html": [
              "\n",
              "  <div id=\"df-849c67e1-e259-48b9-b354-def6368dad23\">\n",
              "    <div class=\"colab-df-container\">\n",
              "      <div>\n",
              "<style scoped>\n",
              "    .dataframe tbody tr th:only-of-type {\n",
              "        vertical-align: middle;\n",
              "    }\n",
              "\n",
              "    .dataframe tbody tr th {\n",
              "        vertical-align: top;\n",
              "    }\n",
              "\n",
              "    .dataframe thead th {\n",
              "        text-align: right;\n",
              "    }\n",
              "</style>\n",
              "<table border=\"1\" class=\"dataframe\">\n",
              "  <thead>\n",
              "    <tr style=\"text-align: right;\">\n",
              "      <th></th>\n",
              "      <th>Age</th>\n",
              "      <th>Sex</th>\n",
              "      <th>ChestPainType</th>\n",
              "      <th>RestingBP</th>\n",
              "      <th>Cholesterol</th>\n",
              "      <th>FastingBS</th>\n",
              "      <th>RestingECG</th>\n",
              "      <th>MaxHR</th>\n",
              "      <th>ExerciseAngina</th>\n",
              "      <th>Oldpeak</th>\n",
              "      <th>ST_Slope</th>\n",
              "      <th>HeartDisease</th>\n",
              "    </tr>\n",
              "  </thead>\n",
              "  <tbody>\n",
              "    <tr>\n",
              "      <th>449</th>\n",
              "      <td>55</td>\n",
              "      <td>M</td>\n",
              "      <td>NAP</td>\n",
              "      <td>0</td>\n",
              "      <td>0</td>\n",
              "      <td>0</td>\n",
              "      <td>Normal</td>\n",
              "      <td>155</td>\n",
              "      <td>N</td>\n",
              "      <td>1.5</td>\n",
              "      <td>Flat</td>\n",
              "      <td>1</td>\n",
              "    </tr>\n",
              "  </tbody>\n",
              "</table>\n",
              "</div>\n",
              "      <button class=\"colab-df-convert\" onclick=\"convertToInteractive('df-849c67e1-e259-48b9-b354-def6368dad23')\"\n",
              "              title=\"Convert this dataframe to an interactive table.\"\n",
              "              style=\"display:none;\">\n",
              "        \n",
              "  <svg xmlns=\"http://www.w3.org/2000/svg\" height=\"24px\"viewBox=\"0 0 24 24\"\n",
              "       width=\"24px\">\n",
              "    <path d=\"M0 0h24v24H0V0z\" fill=\"none\"/>\n",
              "    <path d=\"M18.56 5.44l.94 2.06.94-2.06 2.06-.94-2.06-.94-.94-2.06-.94 2.06-2.06.94zm-11 1L8.5 8.5l.94-2.06 2.06-.94-2.06-.94L8.5 2.5l-.94 2.06-2.06.94zm10 10l.94 2.06.94-2.06 2.06-.94-2.06-.94-.94-2.06-.94 2.06-2.06.94z\"/><path d=\"M17.41 7.96l-1.37-1.37c-.4-.4-.92-.59-1.43-.59-.52 0-1.04.2-1.43.59L10.3 9.45l-7.72 7.72c-.78.78-.78 2.05 0 2.83L4 21.41c.39.39.9.59 1.41.59.51 0 1.02-.2 1.41-.59l7.78-7.78 2.81-2.81c.8-.78.8-2.07 0-2.86zM5.41 20L4 18.59l7.72-7.72 1.47 1.35L5.41 20z\"/>\n",
              "  </svg>\n",
              "      </button>\n",
              "      \n",
              "  <style>\n",
              "    .colab-df-container {\n",
              "      display:flex;\n",
              "      flex-wrap:wrap;\n",
              "      gap: 12px;\n",
              "    }\n",
              "\n",
              "    .colab-df-convert {\n",
              "      background-color: #E8F0FE;\n",
              "      border: none;\n",
              "      border-radius: 50%;\n",
              "      cursor: pointer;\n",
              "      display: none;\n",
              "      fill: #1967D2;\n",
              "      height: 32px;\n",
              "      padding: 0 0 0 0;\n",
              "      width: 32px;\n",
              "    }\n",
              "\n",
              "    .colab-df-convert:hover {\n",
              "      background-color: #E2EBFA;\n",
              "      box-shadow: 0px 1px 2px rgba(60, 64, 67, 0.3), 0px 1px 3px 1px rgba(60, 64, 67, 0.15);\n",
              "      fill: #174EA6;\n",
              "    }\n",
              "\n",
              "    [theme=dark] .colab-df-convert {\n",
              "      background-color: #3B4455;\n",
              "      fill: #D2E3FC;\n",
              "    }\n",
              "\n",
              "    [theme=dark] .colab-df-convert:hover {\n",
              "      background-color: #434B5C;\n",
              "      box-shadow: 0px 1px 3px 1px rgba(0, 0, 0, 0.15);\n",
              "      filter: drop-shadow(0px 1px 2px rgba(0, 0, 0, 0.3));\n",
              "      fill: #FFFFFF;\n",
              "    }\n",
              "  </style>\n",
              "\n",
              "      <script>\n",
              "        const buttonEl =\n",
              "          document.querySelector('#df-849c67e1-e259-48b9-b354-def6368dad23 button.colab-df-convert');\n",
              "        buttonEl.style.display =\n",
              "          google.colab.kernel.accessAllowed ? 'block' : 'none';\n",
              "\n",
              "        async function convertToInteractive(key) {\n",
              "          const element = document.querySelector('#df-849c67e1-e259-48b9-b354-def6368dad23');\n",
              "          const dataTable =\n",
              "            await google.colab.kernel.invokeFunction('convertToInteractive',\n",
              "                                                     [key], {});\n",
              "          if (!dataTable) return;\n",
              "\n",
              "          const docLinkHtml = 'Like what you see? Visit the ' +\n",
              "            '<a target=\"_blank\" href=https://colab.research.google.com/notebooks/data_table.ipynb>data table notebook</a>'\n",
              "            + ' to learn more about interactive tables.';\n",
              "          element.innerHTML = '';\n",
              "          dataTable['output_type'] = 'display_data';\n",
              "          await google.colab.output.renderOutput(dataTable, element);\n",
              "          const docLink = document.createElement('div');\n",
              "          docLink.innerHTML = docLinkHtml;\n",
              "          element.appendChild(docLink);\n",
              "        }\n",
              "      </script>\n",
              "    </div>\n",
              "  </div>\n",
              "  "
            ],
            "text/plain": [
              "     Age Sex ChestPainType  ...  Oldpeak  ST_Slope  HeartDisease\n",
              "449   55   M           NAP  ...      1.5      Flat             1\n",
              "\n",
              "[1 rows x 12 columns]"
            ]
          },
          "metadata": {},
          "execution_count": 113
        }
      ]
    },
    {
      "cell_type": "markdown",
      "source": [
        "Since this is a singular ro, we will just drop it"
      ],
      "metadata": {
        "id": "J9VxFIjfNSA_"
      }
    },
    {
      "cell_type": "code",
      "source": [
        "heart_df = heart_df.drop(449)\n",
        "heart_df.head()"
      ],
      "metadata": {
        "colab": {
          "base_uri": "https://localhost:8080/",
          "height": 206
        },
        "id": "7mWbM6nlNU78",
        "outputId": "8208cd06-24b0-4a1d-82af-c11fe2023d25"
      },
      "execution_count": 114,
      "outputs": [
        {
          "output_type": "execute_result",
          "data": {
            "text/html": [
              "\n",
              "  <div id=\"df-620fd996-004a-47e9-a30e-c5a33bd43750\">\n",
              "    <div class=\"colab-df-container\">\n",
              "      <div>\n",
              "<style scoped>\n",
              "    .dataframe tbody tr th:only-of-type {\n",
              "        vertical-align: middle;\n",
              "    }\n",
              "\n",
              "    .dataframe tbody tr th {\n",
              "        vertical-align: top;\n",
              "    }\n",
              "\n",
              "    .dataframe thead th {\n",
              "        text-align: right;\n",
              "    }\n",
              "</style>\n",
              "<table border=\"1\" class=\"dataframe\">\n",
              "  <thead>\n",
              "    <tr style=\"text-align: right;\">\n",
              "      <th></th>\n",
              "      <th>Age</th>\n",
              "      <th>Sex</th>\n",
              "      <th>ChestPainType</th>\n",
              "      <th>RestingBP</th>\n",
              "      <th>Cholesterol</th>\n",
              "      <th>FastingBS</th>\n",
              "      <th>RestingECG</th>\n",
              "      <th>MaxHR</th>\n",
              "      <th>ExerciseAngina</th>\n",
              "      <th>Oldpeak</th>\n",
              "      <th>ST_Slope</th>\n",
              "      <th>HeartDisease</th>\n",
              "    </tr>\n",
              "  </thead>\n",
              "  <tbody>\n",
              "    <tr>\n",
              "      <th>0</th>\n",
              "      <td>40</td>\n",
              "      <td>M</td>\n",
              "      <td>ATA</td>\n",
              "      <td>140</td>\n",
              "      <td>289</td>\n",
              "      <td>0</td>\n",
              "      <td>Normal</td>\n",
              "      <td>172</td>\n",
              "      <td>N</td>\n",
              "      <td>0.0</td>\n",
              "      <td>Up</td>\n",
              "      <td>0</td>\n",
              "    </tr>\n",
              "    <tr>\n",
              "      <th>1</th>\n",
              "      <td>49</td>\n",
              "      <td>F</td>\n",
              "      <td>NAP</td>\n",
              "      <td>160</td>\n",
              "      <td>180</td>\n",
              "      <td>0</td>\n",
              "      <td>Normal</td>\n",
              "      <td>156</td>\n",
              "      <td>N</td>\n",
              "      <td>1.0</td>\n",
              "      <td>Flat</td>\n",
              "      <td>1</td>\n",
              "    </tr>\n",
              "    <tr>\n",
              "      <th>2</th>\n",
              "      <td>37</td>\n",
              "      <td>M</td>\n",
              "      <td>ATA</td>\n",
              "      <td>130</td>\n",
              "      <td>283</td>\n",
              "      <td>0</td>\n",
              "      <td>ST</td>\n",
              "      <td>98</td>\n",
              "      <td>N</td>\n",
              "      <td>0.0</td>\n",
              "      <td>Up</td>\n",
              "      <td>0</td>\n",
              "    </tr>\n",
              "    <tr>\n",
              "      <th>3</th>\n",
              "      <td>48</td>\n",
              "      <td>F</td>\n",
              "      <td>ASY</td>\n",
              "      <td>138</td>\n",
              "      <td>214</td>\n",
              "      <td>0</td>\n",
              "      <td>Normal</td>\n",
              "      <td>108</td>\n",
              "      <td>Y</td>\n",
              "      <td>1.5</td>\n",
              "      <td>Flat</td>\n",
              "      <td>1</td>\n",
              "    </tr>\n",
              "    <tr>\n",
              "      <th>4</th>\n",
              "      <td>54</td>\n",
              "      <td>M</td>\n",
              "      <td>NAP</td>\n",
              "      <td>150</td>\n",
              "      <td>195</td>\n",
              "      <td>0</td>\n",
              "      <td>Normal</td>\n",
              "      <td>122</td>\n",
              "      <td>N</td>\n",
              "      <td>0.0</td>\n",
              "      <td>Up</td>\n",
              "      <td>0</td>\n",
              "    </tr>\n",
              "  </tbody>\n",
              "</table>\n",
              "</div>\n",
              "      <button class=\"colab-df-convert\" onclick=\"convertToInteractive('df-620fd996-004a-47e9-a30e-c5a33bd43750')\"\n",
              "              title=\"Convert this dataframe to an interactive table.\"\n",
              "              style=\"display:none;\">\n",
              "        \n",
              "  <svg xmlns=\"http://www.w3.org/2000/svg\" height=\"24px\"viewBox=\"0 0 24 24\"\n",
              "       width=\"24px\">\n",
              "    <path d=\"M0 0h24v24H0V0z\" fill=\"none\"/>\n",
              "    <path d=\"M18.56 5.44l.94 2.06.94-2.06 2.06-.94-2.06-.94-.94-2.06-.94 2.06-2.06.94zm-11 1L8.5 8.5l.94-2.06 2.06-.94-2.06-.94L8.5 2.5l-.94 2.06-2.06.94zm10 10l.94 2.06.94-2.06 2.06-.94-2.06-.94-.94-2.06-.94 2.06-2.06.94z\"/><path d=\"M17.41 7.96l-1.37-1.37c-.4-.4-.92-.59-1.43-.59-.52 0-1.04.2-1.43.59L10.3 9.45l-7.72 7.72c-.78.78-.78 2.05 0 2.83L4 21.41c.39.39.9.59 1.41.59.51 0 1.02-.2 1.41-.59l7.78-7.78 2.81-2.81c.8-.78.8-2.07 0-2.86zM5.41 20L4 18.59l7.72-7.72 1.47 1.35L5.41 20z\"/>\n",
              "  </svg>\n",
              "      </button>\n",
              "      \n",
              "  <style>\n",
              "    .colab-df-container {\n",
              "      display:flex;\n",
              "      flex-wrap:wrap;\n",
              "      gap: 12px;\n",
              "    }\n",
              "\n",
              "    .colab-df-convert {\n",
              "      background-color: #E8F0FE;\n",
              "      border: none;\n",
              "      border-radius: 50%;\n",
              "      cursor: pointer;\n",
              "      display: none;\n",
              "      fill: #1967D2;\n",
              "      height: 32px;\n",
              "      padding: 0 0 0 0;\n",
              "      width: 32px;\n",
              "    }\n",
              "\n",
              "    .colab-df-convert:hover {\n",
              "      background-color: #E2EBFA;\n",
              "      box-shadow: 0px 1px 2px rgba(60, 64, 67, 0.3), 0px 1px 3px 1px rgba(60, 64, 67, 0.15);\n",
              "      fill: #174EA6;\n",
              "    }\n",
              "\n",
              "    [theme=dark] .colab-df-convert {\n",
              "      background-color: #3B4455;\n",
              "      fill: #D2E3FC;\n",
              "    }\n",
              "\n",
              "    [theme=dark] .colab-df-convert:hover {\n",
              "      background-color: #434B5C;\n",
              "      box-shadow: 0px 1px 3px 1px rgba(0, 0, 0, 0.15);\n",
              "      filter: drop-shadow(0px 1px 2px rgba(0, 0, 0, 0.3));\n",
              "      fill: #FFFFFF;\n",
              "    }\n",
              "  </style>\n",
              "\n",
              "      <script>\n",
              "        const buttonEl =\n",
              "          document.querySelector('#df-620fd996-004a-47e9-a30e-c5a33bd43750 button.colab-df-convert');\n",
              "        buttonEl.style.display =\n",
              "          google.colab.kernel.accessAllowed ? 'block' : 'none';\n",
              "\n",
              "        async function convertToInteractive(key) {\n",
              "          const element = document.querySelector('#df-620fd996-004a-47e9-a30e-c5a33bd43750');\n",
              "          const dataTable =\n",
              "            await google.colab.kernel.invokeFunction('convertToInteractive',\n",
              "                                                     [key], {});\n",
              "          if (!dataTable) return;\n",
              "\n",
              "          const docLinkHtml = 'Like what you see? Visit the ' +\n",
              "            '<a target=\"_blank\" href=https://colab.research.google.com/notebooks/data_table.ipynb>data table notebook</a>'\n",
              "            + ' to learn more about interactive tables.';\n",
              "          element.innerHTML = '';\n",
              "          dataTable['output_type'] = 'display_data';\n",
              "          await google.colab.output.renderOutput(dataTable, element);\n",
              "          const docLink = document.createElement('div');\n",
              "          docLink.innerHTML = docLinkHtml;\n",
              "          element.appendChild(docLink);\n",
              "        }\n",
              "      </script>\n",
              "    </div>\n",
              "  </div>\n",
              "  "
            ],
            "text/plain": [
              "   Age Sex ChestPainType  ...  Oldpeak  ST_Slope  HeartDisease\n",
              "0   40   M           ATA  ...      0.0        Up             0\n",
              "1   49   F           NAP  ...      1.0      Flat             1\n",
              "2   37   M           ATA  ...      0.0        Up             0\n",
              "3   48   F           ASY  ...      1.5      Flat             1\n",
              "4   54   M           NAP  ...      0.0        Up             0\n",
              "\n",
              "[5 rows x 12 columns]"
            ]
          },
          "metadata": {},
          "execution_count": 114
        }
      ]
    },
    {
      "cell_type": "code",
      "source": [
        "# Check to see if the column was dropped\n",
        "heart_df.loc[heart_df['RestingBP']== 0, :]"
      ],
      "metadata": {
        "colab": {
          "base_uri": "https://localhost:8080/",
          "height": 49
        },
        "id": "ubyfIMJCNejX",
        "outputId": "8249e69c-7ef8-44d0-e178-4dce980fc1b7"
      },
      "execution_count": 115,
      "outputs": [
        {
          "output_type": "execute_result",
          "data": {
            "text/html": [
              "\n",
              "  <div id=\"df-a6b8060b-c08d-4fe4-9dac-6d4d470c0ee3\">\n",
              "    <div class=\"colab-df-container\">\n",
              "      <div>\n",
              "<style scoped>\n",
              "    .dataframe tbody tr th:only-of-type {\n",
              "        vertical-align: middle;\n",
              "    }\n",
              "\n",
              "    .dataframe tbody tr th {\n",
              "        vertical-align: top;\n",
              "    }\n",
              "\n",
              "    .dataframe thead th {\n",
              "        text-align: right;\n",
              "    }\n",
              "</style>\n",
              "<table border=\"1\" class=\"dataframe\">\n",
              "  <thead>\n",
              "    <tr style=\"text-align: right;\">\n",
              "      <th></th>\n",
              "      <th>Age</th>\n",
              "      <th>Sex</th>\n",
              "      <th>ChestPainType</th>\n",
              "      <th>RestingBP</th>\n",
              "      <th>Cholesterol</th>\n",
              "      <th>FastingBS</th>\n",
              "      <th>RestingECG</th>\n",
              "      <th>MaxHR</th>\n",
              "      <th>ExerciseAngina</th>\n",
              "      <th>Oldpeak</th>\n",
              "      <th>ST_Slope</th>\n",
              "      <th>HeartDisease</th>\n",
              "    </tr>\n",
              "  </thead>\n",
              "  <tbody>\n",
              "  </tbody>\n",
              "</table>\n",
              "</div>\n",
              "      <button class=\"colab-df-convert\" onclick=\"convertToInteractive('df-a6b8060b-c08d-4fe4-9dac-6d4d470c0ee3')\"\n",
              "              title=\"Convert this dataframe to an interactive table.\"\n",
              "              style=\"display:none;\">\n",
              "        \n",
              "  <svg xmlns=\"http://www.w3.org/2000/svg\" height=\"24px\"viewBox=\"0 0 24 24\"\n",
              "       width=\"24px\">\n",
              "    <path d=\"M0 0h24v24H0V0z\" fill=\"none\"/>\n",
              "    <path d=\"M18.56 5.44l.94 2.06.94-2.06 2.06-.94-2.06-.94-.94-2.06-.94 2.06-2.06.94zm-11 1L8.5 8.5l.94-2.06 2.06-.94-2.06-.94L8.5 2.5l-.94 2.06-2.06.94zm10 10l.94 2.06.94-2.06 2.06-.94-2.06-.94-.94-2.06-.94 2.06-2.06.94z\"/><path d=\"M17.41 7.96l-1.37-1.37c-.4-.4-.92-.59-1.43-.59-.52 0-1.04.2-1.43.59L10.3 9.45l-7.72 7.72c-.78.78-.78 2.05 0 2.83L4 21.41c.39.39.9.59 1.41.59.51 0 1.02-.2 1.41-.59l7.78-7.78 2.81-2.81c.8-.78.8-2.07 0-2.86zM5.41 20L4 18.59l7.72-7.72 1.47 1.35L5.41 20z\"/>\n",
              "  </svg>\n",
              "      </button>\n",
              "      \n",
              "  <style>\n",
              "    .colab-df-container {\n",
              "      display:flex;\n",
              "      flex-wrap:wrap;\n",
              "      gap: 12px;\n",
              "    }\n",
              "\n",
              "    .colab-df-convert {\n",
              "      background-color: #E8F0FE;\n",
              "      border: none;\n",
              "      border-radius: 50%;\n",
              "      cursor: pointer;\n",
              "      display: none;\n",
              "      fill: #1967D2;\n",
              "      height: 32px;\n",
              "      padding: 0 0 0 0;\n",
              "      width: 32px;\n",
              "    }\n",
              "\n",
              "    .colab-df-convert:hover {\n",
              "      background-color: #E2EBFA;\n",
              "      box-shadow: 0px 1px 2px rgba(60, 64, 67, 0.3), 0px 1px 3px 1px rgba(60, 64, 67, 0.15);\n",
              "      fill: #174EA6;\n",
              "    }\n",
              "\n",
              "    [theme=dark] .colab-df-convert {\n",
              "      background-color: #3B4455;\n",
              "      fill: #D2E3FC;\n",
              "    }\n",
              "\n",
              "    [theme=dark] .colab-df-convert:hover {\n",
              "      background-color: #434B5C;\n",
              "      box-shadow: 0px 1px 3px 1px rgba(0, 0, 0, 0.15);\n",
              "      filter: drop-shadow(0px 1px 2px rgba(0, 0, 0, 0.3));\n",
              "      fill: #FFFFFF;\n",
              "    }\n",
              "  </style>\n",
              "\n",
              "      <script>\n",
              "        const buttonEl =\n",
              "          document.querySelector('#df-a6b8060b-c08d-4fe4-9dac-6d4d470c0ee3 button.colab-df-convert');\n",
              "        buttonEl.style.display =\n",
              "          google.colab.kernel.accessAllowed ? 'block' : 'none';\n",
              "\n",
              "        async function convertToInteractive(key) {\n",
              "          const element = document.querySelector('#df-a6b8060b-c08d-4fe4-9dac-6d4d470c0ee3');\n",
              "          const dataTable =\n",
              "            await google.colab.kernel.invokeFunction('convertToInteractive',\n",
              "                                                     [key], {});\n",
              "          if (!dataTable) return;\n",
              "\n",
              "          const docLinkHtml = 'Like what you see? Visit the ' +\n",
              "            '<a target=\"_blank\" href=https://colab.research.google.com/notebooks/data_table.ipynb>data table notebook</a>'\n",
              "            + ' to learn more about interactive tables.';\n",
              "          element.innerHTML = '';\n",
              "          dataTable['output_type'] = 'display_data';\n",
              "          await google.colab.output.renderOutput(dataTable, element);\n",
              "          const docLink = document.createElement('div');\n",
              "          docLink.innerHTML = docLinkHtml;\n",
              "          element.appendChild(docLink);\n",
              "        }\n",
              "      </script>\n",
              "    </div>\n",
              "  </div>\n",
              "  "
            ],
            "text/plain": [
              "Empty DataFrame\n",
              "Columns: [Age, Sex, ChestPainType, RestingBP, Cholesterol, FastingBS, RestingECG, MaxHR, ExerciseAngina, Oldpeak, ST_Slope, HeartDisease]\n",
              "Index: []"
            ]
          },
          "metadata": {},
          "execution_count": 115
        }
      ]
    },
    {
      "cell_type": "markdown",
      "source": [
        "Now lets look at cholesterol"
      ],
      "metadata": {
        "id": "FoWyogFVN-kv"
      }
    },
    {
      "cell_type": "code",
      "source": [
        "heart_df.loc[heart_df['Cholesterol']== 0, :]"
      ],
      "metadata": {
        "colab": {
          "base_uri": "https://localhost:8080/",
          "height": 424
        },
        "id": "cRMVySrYMRvk",
        "outputId": "52f27805-5504-42df-b16e-9f559323c421"
      },
      "execution_count": 116,
      "outputs": [
        {
          "output_type": "execute_result",
          "data": {
            "text/html": [
              "\n",
              "  <div id=\"df-96ce84b1-3e35-430e-ba42-cb28491429ec\">\n",
              "    <div class=\"colab-df-container\">\n",
              "      <div>\n",
              "<style scoped>\n",
              "    .dataframe tbody tr th:only-of-type {\n",
              "        vertical-align: middle;\n",
              "    }\n",
              "\n",
              "    .dataframe tbody tr th {\n",
              "        vertical-align: top;\n",
              "    }\n",
              "\n",
              "    .dataframe thead th {\n",
              "        text-align: right;\n",
              "    }\n",
              "</style>\n",
              "<table border=\"1\" class=\"dataframe\">\n",
              "  <thead>\n",
              "    <tr style=\"text-align: right;\">\n",
              "      <th></th>\n",
              "      <th>Age</th>\n",
              "      <th>Sex</th>\n",
              "      <th>ChestPainType</th>\n",
              "      <th>RestingBP</th>\n",
              "      <th>Cholesterol</th>\n",
              "      <th>FastingBS</th>\n",
              "      <th>RestingECG</th>\n",
              "      <th>MaxHR</th>\n",
              "      <th>ExerciseAngina</th>\n",
              "      <th>Oldpeak</th>\n",
              "      <th>ST_Slope</th>\n",
              "      <th>HeartDisease</th>\n",
              "    </tr>\n",
              "  </thead>\n",
              "  <tbody>\n",
              "    <tr>\n",
              "      <th>293</th>\n",
              "      <td>65</td>\n",
              "      <td>M</td>\n",
              "      <td>ASY</td>\n",
              "      <td>115</td>\n",
              "      <td>0</td>\n",
              "      <td>0</td>\n",
              "      <td>Normal</td>\n",
              "      <td>93</td>\n",
              "      <td>Y</td>\n",
              "      <td>0.0</td>\n",
              "      <td>Flat</td>\n",
              "      <td>1</td>\n",
              "    </tr>\n",
              "    <tr>\n",
              "      <th>294</th>\n",
              "      <td>32</td>\n",
              "      <td>M</td>\n",
              "      <td>TA</td>\n",
              "      <td>95</td>\n",
              "      <td>0</td>\n",
              "      <td>1</td>\n",
              "      <td>Normal</td>\n",
              "      <td>127</td>\n",
              "      <td>N</td>\n",
              "      <td>0.7</td>\n",
              "      <td>Up</td>\n",
              "      <td>1</td>\n",
              "    </tr>\n",
              "    <tr>\n",
              "      <th>295</th>\n",
              "      <td>61</td>\n",
              "      <td>M</td>\n",
              "      <td>ASY</td>\n",
              "      <td>105</td>\n",
              "      <td>0</td>\n",
              "      <td>1</td>\n",
              "      <td>Normal</td>\n",
              "      <td>110</td>\n",
              "      <td>Y</td>\n",
              "      <td>1.5</td>\n",
              "      <td>Up</td>\n",
              "      <td>1</td>\n",
              "    </tr>\n",
              "    <tr>\n",
              "      <th>296</th>\n",
              "      <td>50</td>\n",
              "      <td>M</td>\n",
              "      <td>ASY</td>\n",
              "      <td>145</td>\n",
              "      <td>0</td>\n",
              "      <td>1</td>\n",
              "      <td>Normal</td>\n",
              "      <td>139</td>\n",
              "      <td>Y</td>\n",
              "      <td>0.7</td>\n",
              "      <td>Flat</td>\n",
              "      <td>1</td>\n",
              "    </tr>\n",
              "    <tr>\n",
              "      <th>297</th>\n",
              "      <td>57</td>\n",
              "      <td>M</td>\n",
              "      <td>ASY</td>\n",
              "      <td>110</td>\n",
              "      <td>0</td>\n",
              "      <td>1</td>\n",
              "      <td>ST</td>\n",
              "      <td>131</td>\n",
              "      <td>Y</td>\n",
              "      <td>1.4</td>\n",
              "      <td>Up</td>\n",
              "      <td>1</td>\n",
              "    </tr>\n",
              "    <tr>\n",
              "      <th>...</th>\n",
              "      <td>...</td>\n",
              "      <td>...</td>\n",
              "      <td>...</td>\n",
              "      <td>...</td>\n",
              "      <td>...</td>\n",
              "      <td>...</td>\n",
              "      <td>...</td>\n",
              "      <td>...</td>\n",
              "      <td>...</td>\n",
              "      <td>...</td>\n",
              "      <td>...</td>\n",
              "      <td>...</td>\n",
              "    </tr>\n",
              "    <tr>\n",
              "      <th>514</th>\n",
              "      <td>43</td>\n",
              "      <td>M</td>\n",
              "      <td>ASY</td>\n",
              "      <td>122</td>\n",
              "      <td>0</td>\n",
              "      <td>0</td>\n",
              "      <td>Normal</td>\n",
              "      <td>120</td>\n",
              "      <td>N</td>\n",
              "      <td>0.5</td>\n",
              "      <td>Up</td>\n",
              "      <td>1</td>\n",
              "    </tr>\n",
              "    <tr>\n",
              "      <th>515</th>\n",
              "      <td>63</td>\n",
              "      <td>M</td>\n",
              "      <td>NAP</td>\n",
              "      <td>130</td>\n",
              "      <td>0</td>\n",
              "      <td>1</td>\n",
              "      <td>ST</td>\n",
              "      <td>160</td>\n",
              "      <td>N</td>\n",
              "      <td>3.0</td>\n",
              "      <td>Flat</td>\n",
              "      <td>0</td>\n",
              "    </tr>\n",
              "    <tr>\n",
              "      <th>518</th>\n",
              "      <td>48</td>\n",
              "      <td>M</td>\n",
              "      <td>NAP</td>\n",
              "      <td>102</td>\n",
              "      <td>0</td>\n",
              "      <td>1</td>\n",
              "      <td>ST</td>\n",
              "      <td>110</td>\n",
              "      <td>Y</td>\n",
              "      <td>1.0</td>\n",
              "      <td>Down</td>\n",
              "      <td>1</td>\n",
              "    </tr>\n",
              "    <tr>\n",
              "      <th>535</th>\n",
              "      <td>56</td>\n",
              "      <td>M</td>\n",
              "      <td>ASY</td>\n",
              "      <td>130</td>\n",
              "      <td>0</td>\n",
              "      <td>0</td>\n",
              "      <td>LVH</td>\n",
              "      <td>122</td>\n",
              "      <td>Y</td>\n",
              "      <td>1.0</td>\n",
              "      <td>Flat</td>\n",
              "      <td>1</td>\n",
              "    </tr>\n",
              "    <tr>\n",
              "      <th>536</th>\n",
              "      <td>62</td>\n",
              "      <td>M</td>\n",
              "      <td>NAP</td>\n",
              "      <td>133</td>\n",
              "      <td>0</td>\n",
              "      <td>1</td>\n",
              "      <td>ST</td>\n",
              "      <td>119</td>\n",
              "      <td>Y</td>\n",
              "      <td>1.2</td>\n",
              "      <td>Flat</td>\n",
              "      <td>1</td>\n",
              "    </tr>\n",
              "  </tbody>\n",
              "</table>\n",
              "<p>171 rows × 12 columns</p>\n",
              "</div>\n",
              "      <button class=\"colab-df-convert\" onclick=\"convertToInteractive('df-96ce84b1-3e35-430e-ba42-cb28491429ec')\"\n",
              "              title=\"Convert this dataframe to an interactive table.\"\n",
              "              style=\"display:none;\">\n",
              "        \n",
              "  <svg xmlns=\"http://www.w3.org/2000/svg\" height=\"24px\"viewBox=\"0 0 24 24\"\n",
              "       width=\"24px\">\n",
              "    <path d=\"M0 0h24v24H0V0z\" fill=\"none\"/>\n",
              "    <path d=\"M18.56 5.44l.94 2.06.94-2.06 2.06-.94-2.06-.94-.94-2.06-.94 2.06-2.06.94zm-11 1L8.5 8.5l.94-2.06 2.06-.94-2.06-.94L8.5 2.5l-.94 2.06-2.06.94zm10 10l.94 2.06.94-2.06 2.06-.94-2.06-.94-.94-2.06-.94 2.06-2.06.94z\"/><path d=\"M17.41 7.96l-1.37-1.37c-.4-.4-.92-.59-1.43-.59-.52 0-1.04.2-1.43.59L10.3 9.45l-7.72 7.72c-.78.78-.78 2.05 0 2.83L4 21.41c.39.39.9.59 1.41.59.51 0 1.02-.2 1.41-.59l7.78-7.78 2.81-2.81c.8-.78.8-2.07 0-2.86zM5.41 20L4 18.59l7.72-7.72 1.47 1.35L5.41 20z\"/>\n",
              "  </svg>\n",
              "      </button>\n",
              "      \n",
              "  <style>\n",
              "    .colab-df-container {\n",
              "      display:flex;\n",
              "      flex-wrap:wrap;\n",
              "      gap: 12px;\n",
              "    }\n",
              "\n",
              "    .colab-df-convert {\n",
              "      background-color: #E8F0FE;\n",
              "      border: none;\n",
              "      border-radius: 50%;\n",
              "      cursor: pointer;\n",
              "      display: none;\n",
              "      fill: #1967D2;\n",
              "      height: 32px;\n",
              "      padding: 0 0 0 0;\n",
              "      width: 32px;\n",
              "    }\n",
              "\n",
              "    .colab-df-convert:hover {\n",
              "      background-color: #E2EBFA;\n",
              "      box-shadow: 0px 1px 2px rgba(60, 64, 67, 0.3), 0px 1px 3px 1px rgba(60, 64, 67, 0.15);\n",
              "      fill: #174EA6;\n",
              "    }\n",
              "\n",
              "    [theme=dark] .colab-df-convert {\n",
              "      background-color: #3B4455;\n",
              "      fill: #D2E3FC;\n",
              "    }\n",
              "\n",
              "    [theme=dark] .colab-df-convert:hover {\n",
              "      background-color: #434B5C;\n",
              "      box-shadow: 0px 1px 3px 1px rgba(0, 0, 0, 0.15);\n",
              "      filter: drop-shadow(0px 1px 2px rgba(0, 0, 0, 0.3));\n",
              "      fill: #FFFFFF;\n",
              "    }\n",
              "  </style>\n",
              "\n",
              "      <script>\n",
              "        const buttonEl =\n",
              "          document.querySelector('#df-96ce84b1-3e35-430e-ba42-cb28491429ec button.colab-df-convert');\n",
              "        buttonEl.style.display =\n",
              "          google.colab.kernel.accessAllowed ? 'block' : 'none';\n",
              "\n",
              "        async function convertToInteractive(key) {\n",
              "          const element = document.querySelector('#df-96ce84b1-3e35-430e-ba42-cb28491429ec');\n",
              "          const dataTable =\n",
              "            await google.colab.kernel.invokeFunction('convertToInteractive',\n",
              "                                                     [key], {});\n",
              "          if (!dataTable) return;\n",
              "\n",
              "          const docLinkHtml = 'Like what you see? Visit the ' +\n",
              "            '<a target=\"_blank\" href=https://colab.research.google.com/notebooks/data_table.ipynb>data table notebook</a>'\n",
              "            + ' to learn more about interactive tables.';\n",
              "          element.innerHTML = '';\n",
              "          dataTable['output_type'] = 'display_data';\n",
              "          await google.colab.output.renderOutput(dataTable, element);\n",
              "          const docLink = document.createElement('div');\n",
              "          docLink.innerHTML = docLinkHtml;\n",
              "          element.appendChild(docLink);\n",
              "        }\n",
              "      </script>\n",
              "    </div>\n",
              "  </div>\n",
              "  "
            ],
            "text/plain": [
              "     Age Sex ChestPainType  ...  Oldpeak  ST_Slope  HeartDisease\n",
              "293   65   M           ASY  ...      0.0      Flat             1\n",
              "294   32   M            TA  ...      0.7        Up             1\n",
              "295   61   M           ASY  ...      1.5        Up             1\n",
              "296   50   M           ASY  ...      0.7      Flat             1\n",
              "297   57   M           ASY  ...      1.4        Up             1\n",
              "..   ...  ..           ...  ...      ...       ...           ...\n",
              "514   43   M           ASY  ...      0.5        Up             1\n",
              "515   63   M           NAP  ...      3.0      Flat             0\n",
              "518   48   M           NAP  ...      1.0      Down             1\n",
              "535   56   M           ASY  ...      1.0      Flat             1\n",
              "536   62   M           NAP  ...      1.2      Flat             1\n",
              "\n",
              "[171 rows x 12 columns]"
            ]
          },
          "metadata": {},
          "execution_count": 116
        }
      ]
    },
    {
      "cell_type": "markdown",
      "source": [
        "We don't have a good way of figuring out what the cholesterol levels should be, but we do know that it can't be 0. There are too many rows with a cholesterol calue of 0 to drop. The best way to approach this, in my opinion is to find out the mean, and replace the 0's with the average cholesterol."
      ],
      "metadata": {
        "id": "5-bPABKIPalX"
      }
    },
    {
      "cell_type": "code",
      "source": [
        "# Find the mean of the cholesterol \n",
        "heart_df['Cholesterol'].mean()"
      ],
      "metadata": {
        "colab": {
          "base_uri": "https://localhost:8080/"
        },
        "id": "uoC9TtceOcKO",
        "outputId": "8123fcf5-87f6-49cb-a959-59025a25ba49"
      },
      "execution_count": 117,
      "outputs": [
        {
          "output_type": "execute_result",
          "data": {
            "text/plain": [
              "199.0163576881134"
            ]
          },
          "metadata": {},
          "execution_count": 117
        }
      ]
    },
    {
      "cell_type": "markdown",
      "source": [
        "The average Serum Cholesterol level is 199 mm/dl so we will replace all the 0 counts witht 199"
      ],
      "metadata": {
        "id": "jnQzooSlP19W"
      }
    },
    {
      "cell_type": "code",
      "source": [
        "heart_df['Cholesterol'].replace({0 : 199}, inplace = True)"
      ],
      "metadata": {
        "id": "5z7xdLnXO3yA"
      },
      "execution_count": 118,
      "outputs": []
    },
    {
      "cell_type": "code",
      "source": [
        "# Check to see if it worked\n",
        "heart_df.loc[heart_df['Cholesterol'] == 0, :] "
      ],
      "metadata": {
        "colab": {
          "base_uri": "https://localhost:8080/",
          "height": 49
        },
        "id": "lw5i0HGqPAmA",
        "outputId": "c8d95bfd-3ebd-49b2-fa11-93405cb917d1"
      },
      "execution_count": 119,
      "outputs": [
        {
          "output_type": "execute_result",
          "data": {
            "text/html": [
              "\n",
              "  <div id=\"df-11506f67-0bb0-433d-9412-595a3a98006c\">\n",
              "    <div class=\"colab-df-container\">\n",
              "      <div>\n",
              "<style scoped>\n",
              "    .dataframe tbody tr th:only-of-type {\n",
              "        vertical-align: middle;\n",
              "    }\n",
              "\n",
              "    .dataframe tbody tr th {\n",
              "        vertical-align: top;\n",
              "    }\n",
              "\n",
              "    .dataframe thead th {\n",
              "        text-align: right;\n",
              "    }\n",
              "</style>\n",
              "<table border=\"1\" class=\"dataframe\">\n",
              "  <thead>\n",
              "    <tr style=\"text-align: right;\">\n",
              "      <th></th>\n",
              "      <th>Age</th>\n",
              "      <th>Sex</th>\n",
              "      <th>ChestPainType</th>\n",
              "      <th>RestingBP</th>\n",
              "      <th>Cholesterol</th>\n",
              "      <th>FastingBS</th>\n",
              "      <th>RestingECG</th>\n",
              "      <th>MaxHR</th>\n",
              "      <th>ExerciseAngina</th>\n",
              "      <th>Oldpeak</th>\n",
              "      <th>ST_Slope</th>\n",
              "      <th>HeartDisease</th>\n",
              "    </tr>\n",
              "  </thead>\n",
              "  <tbody>\n",
              "  </tbody>\n",
              "</table>\n",
              "</div>\n",
              "      <button class=\"colab-df-convert\" onclick=\"convertToInteractive('df-11506f67-0bb0-433d-9412-595a3a98006c')\"\n",
              "              title=\"Convert this dataframe to an interactive table.\"\n",
              "              style=\"display:none;\">\n",
              "        \n",
              "  <svg xmlns=\"http://www.w3.org/2000/svg\" height=\"24px\"viewBox=\"0 0 24 24\"\n",
              "       width=\"24px\">\n",
              "    <path d=\"M0 0h24v24H0V0z\" fill=\"none\"/>\n",
              "    <path d=\"M18.56 5.44l.94 2.06.94-2.06 2.06-.94-2.06-.94-.94-2.06-.94 2.06-2.06.94zm-11 1L8.5 8.5l.94-2.06 2.06-.94-2.06-.94L8.5 2.5l-.94 2.06-2.06.94zm10 10l.94 2.06.94-2.06 2.06-.94-2.06-.94-.94-2.06-.94 2.06-2.06.94z\"/><path d=\"M17.41 7.96l-1.37-1.37c-.4-.4-.92-.59-1.43-.59-.52 0-1.04.2-1.43.59L10.3 9.45l-7.72 7.72c-.78.78-.78 2.05 0 2.83L4 21.41c.39.39.9.59 1.41.59.51 0 1.02-.2 1.41-.59l7.78-7.78 2.81-2.81c.8-.78.8-2.07 0-2.86zM5.41 20L4 18.59l7.72-7.72 1.47 1.35L5.41 20z\"/>\n",
              "  </svg>\n",
              "      </button>\n",
              "      \n",
              "  <style>\n",
              "    .colab-df-container {\n",
              "      display:flex;\n",
              "      flex-wrap:wrap;\n",
              "      gap: 12px;\n",
              "    }\n",
              "\n",
              "    .colab-df-convert {\n",
              "      background-color: #E8F0FE;\n",
              "      border: none;\n",
              "      border-radius: 50%;\n",
              "      cursor: pointer;\n",
              "      display: none;\n",
              "      fill: #1967D2;\n",
              "      height: 32px;\n",
              "      padding: 0 0 0 0;\n",
              "      width: 32px;\n",
              "    }\n",
              "\n",
              "    .colab-df-convert:hover {\n",
              "      background-color: #E2EBFA;\n",
              "      box-shadow: 0px 1px 2px rgba(60, 64, 67, 0.3), 0px 1px 3px 1px rgba(60, 64, 67, 0.15);\n",
              "      fill: #174EA6;\n",
              "    }\n",
              "\n",
              "    [theme=dark] .colab-df-convert {\n",
              "      background-color: #3B4455;\n",
              "      fill: #D2E3FC;\n",
              "    }\n",
              "\n",
              "    [theme=dark] .colab-df-convert:hover {\n",
              "      background-color: #434B5C;\n",
              "      box-shadow: 0px 1px 3px 1px rgba(0, 0, 0, 0.15);\n",
              "      filter: drop-shadow(0px 1px 2px rgba(0, 0, 0, 0.3));\n",
              "      fill: #FFFFFF;\n",
              "    }\n",
              "  </style>\n",
              "\n",
              "      <script>\n",
              "        const buttonEl =\n",
              "          document.querySelector('#df-11506f67-0bb0-433d-9412-595a3a98006c button.colab-df-convert');\n",
              "        buttonEl.style.display =\n",
              "          google.colab.kernel.accessAllowed ? 'block' : 'none';\n",
              "\n",
              "        async function convertToInteractive(key) {\n",
              "          const element = document.querySelector('#df-11506f67-0bb0-433d-9412-595a3a98006c');\n",
              "          const dataTable =\n",
              "            await google.colab.kernel.invokeFunction('convertToInteractive',\n",
              "                                                     [key], {});\n",
              "          if (!dataTable) return;\n",
              "\n",
              "          const docLinkHtml = 'Like what you see? Visit the ' +\n",
              "            '<a target=\"_blank\" href=https://colab.research.google.com/notebooks/data_table.ipynb>data table notebook</a>'\n",
              "            + ' to learn more about interactive tables.';\n",
              "          element.innerHTML = '';\n",
              "          dataTable['output_type'] = 'display_data';\n",
              "          await google.colab.output.renderOutput(dataTable, element);\n",
              "          const docLink = document.createElement('div');\n",
              "          docLink.innerHTML = docLinkHtml;\n",
              "          element.appendChild(docLink);\n",
              "        }\n",
              "      </script>\n",
              "    </div>\n",
              "  </div>\n",
              "  "
            ],
            "text/plain": [
              "Empty DataFrame\n",
              "Columns: [Age, Sex, ChestPainType, RestingBP, Cholesterol, FastingBS, RestingECG, MaxHR, ExerciseAngina, Oldpeak, ST_Slope, HeartDisease]\n",
              "Index: []"
            ]
          },
          "metadata": {},
          "execution_count": 119
        }
      ]
    },
    {
      "cell_type": "markdown",
      "source": [
        "Now we will Binarize our columns: Exercise Angina, and Sex"
      ],
      "metadata": {
        "id": "kgWEQ_nVnC8b"
      }
    },
    {
      "cell_type": "code",
      "source": [
        "heart_df['Sex'].value_counts()"
      ],
      "metadata": {
        "colab": {
          "base_uri": "https://localhost:8080/"
        },
        "id": "tUU57vCvnCWR",
        "outputId": "e8ebf5bb-3da4-4d66-f321-b40464b03a9e"
      },
      "execution_count": 120,
      "outputs": [
        {
          "output_type": "execute_result",
          "data": {
            "text/plain": [
              "M    724\n",
              "F    193\n",
              "Name: Sex, dtype: int64"
            ]
          },
          "metadata": {},
          "execution_count": 120
        }
      ]
    },
    {
      "cell_type": "code",
      "source": [
        "heart_df['ExerciseAngina'].value_counts()"
      ],
      "metadata": {
        "colab": {
          "base_uri": "https://localhost:8080/"
        },
        "id": "curiQBSBnhxN",
        "outputId": "ca041680-d5ef-47b6-e04f-dfe50d6a1e6a"
      },
      "execution_count": 121,
      "outputs": [
        {
          "output_type": "execute_result",
          "data": {
            "text/plain": [
              "N    546\n",
              "Y    371\n",
              "Name: ExerciseAngina, dtype: int64"
            ]
          },
          "metadata": {},
          "execution_count": 121
        }
      ]
    },
    {
      "cell_type": "code",
      "source": [
        "# Binarize sex\n",
        "heart_df['Sex'] = heart_df['Sex'].map({'M' : 1,\n",
        "                           'F' : 0})\n",
        "\n",
        "# Binarize Exercise Angina\n",
        "heart_df['ExerciseAngina'] = heart_df['ExerciseAngina'].map({'N' : 0,\n",
        "                                                             'Y' : 1})"
      ],
      "metadata": {
        "id": "AS1CXg6snV2M"
      },
      "execution_count": 122,
      "outputs": []
    },
    {
      "cell_type": "code",
      "source": [
        "# Check to see that the columns were properly binarized\n",
        "heart_df.head()"
      ],
      "metadata": {
        "colab": {
          "base_uri": "https://localhost:8080/",
          "height": 206
        },
        "id": "qnadNg9gn8qB",
        "outputId": "4be871d3-ba04-4bcf-f509-223077308308"
      },
      "execution_count": 123,
      "outputs": [
        {
          "output_type": "execute_result",
          "data": {
            "text/html": [
              "\n",
              "  <div id=\"df-0a1341cb-caeb-4b7c-b3fb-e77cdf2c75c2\">\n",
              "    <div class=\"colab-df-container\">\n",
              "      <div>\n",
              "<style scoped>\n",
              "    .dataframe tbody tr th:only-of-type {\n",
              "        vertical-align: middle;\n",
              "    }\n",
              "\n",
              "    .dataframe tbody tr th {\n",
              "        vertical-align: top;\n",
              "    }\n",
              "\n",
              "    .dataframe thead th {\n",
              "        text-align: right;\n",
              "    }\n",
              "</style>\n",
              "<table border=\"1\" class=\"dataframe\">\n",
              "  <thead>\n",
              "    <tr style=\"text-align: right;\">\n",
              "      <th></th>\n",
              "      <th>Age</th>\n",
              "      <th>Sex</th>\n",
              "      <th>ChestPainType</th>\n",
              "      <th>RestingBP</th>\n",
              "      <th>Cholesterol</th>\n",
              "      <th>FastingBS</th>\n",
              "      <th>RestingECG</th>\n",
              "      <th>MaxHR</th>\n",
              "      <th>ExerciseAngina</th>\n",
              "      <th>Oldpeak</th>\n",
              "      <th>ST_Slope</th>\n",
              "      <th>HeartDisease</th>\n",
              "    </tr>\n",
              "  </thead>\n",
              "  <tbody>\n",
              "    <tr>\n",
              "      <th>0</th>\n",
              "      <td>40</td>\n",
              "      <td>1</td>\n",
              "      <td>ATA</td>\n",
              "      <td>140</td>\n",
              "      <td>289</td>\n",
              "      <td>0</td>\n",
              "      <td>Normal</td>\n",
              "      <td>172</td>\n",
              "      <td>0</td>\n",
              "      <td>0.0</td>\n",
              "      <td>Up</td>\n",
              "      <td>0</td>\n",
              "    </tr>\n",
              "    <tr>\n",
              "      <th>1</th>\n",
              "      <td>49</td>\n",
              "      <td>0</td>\n",
              "      <td>NAP</td>\n",
              "      <td>160</td>\n",
              "      <td>180</td>\n",
              "      <td>0</td>\n",
              "      <td>Normal</td>\n",
              "      <td>156</td>\n",
              "      <td>0</td>\n",
              "      <td>1.0</td>\n",
              "      <td>Flat</td>\n",
              "      <td>1</td>\n",
              "    </tr>\n",
              "    <tr>\n",
              "      <th>2</th>\n",
              "      <td>37</td>\n",
              "      <td>1</td>\n",
              "      <td>ATA</td>\n",
              "      <td>130</td>\n",
              "      <td>283</td>\n",
              "      <td>0</td>\n",
              "      <td>ST</td>\n",
              "      <td>98</td>\n",
              "      <td>0</td>\n",
              "      <td>0.0</td>\n",
              "      <td>Up</td>\n",
              "      <td>0</td>\n",
              "    </tr>\n",
              "    <tr>\n",
              "      <th>3</th>\n",
              "      <td>48</td>\n",
              "      <td>0</td>\n",
              "      <td>ASY</td>\n",
              "      <td>138</td>\n",
              "      <td>214</td>\n",
              "      <td>0</td>\n",
              "      <td>Normal</td>\n",
              "      <td>108</td>\n",
              "      <td>1</td>\n",
              "      <td>1.5</td>\n",
              "      <td>Flat</td>\n",
              "      <td>1</td>\n",
              "    </tr>\n",
              "    <tr>\n",
              "      <th>4</th>\n",
              "      <td>54</td>\n",
              "      <td>1</td>\n",
              "      <td>NAP</td>\n",
              "      <td>150</td>\n",
              "      <td>195</td>\n",
              "      <td>0</td>\n",
              "      <td>Normal</td>\n",
              "      <td>122</td>\n",
              "      <td>0</td>\n",
              "      <td>0.0</td>\n",
              "      <td>Up</td>\n",
              "      <td>0</td>\n",
              "    </tr>\n",
              "  </tbody>\n",
              "</table>\n",
              "</div>\n",
              "      <button class=\"colab-df-convert\" onclick=\"convertToInteractive('df-0a1341cb-caeb-4b7c-b3fb-e77cdf2c75c2')\"\n",
              "              title=\"Convert this dataframe to an interactive table.\"\n",
              "              style=\"display:none;\">\n",
              "        \n",
              "  <svg xmlns=\"http://www.w3.org/2000/svg\" height=\"24px\"viewBox=\"0 0 24 24\"\n",
              "       width=\"24px\">\n",
              "    <path d=\"M0 0h24v24H0V0z\" fill=\"none\"/>\n",
              "    <path d=\"M18.56 5.44l.94 2.06.94-2.06 2.06-.94-2.06-.94-.94-2.06-.94 2.06-2.06.94zm-11 1L8.5 8.5l.94-2.06 2.06-.94-2.06-.94L8.5 2.5l-.94 2.06-2.06.94zm10 10l.94 2.06.94-2.06 2.06-.94-2.06-.94-.94-2.06-.94 2.06-2.06.94z\"/><path d=\"M17.41 7.96l-1.37-1.37c-.4-.4-.92-.59-1.43-.59-.52 0-1.04.2-1.43.59L10.3 9.45l-7.72 7.72c-.78.78-.78 2.05 0 2.83L4 21.41c.39.39.9.59 1.41.59.51 0 1.02-.2 1.41-.59l7.78-7.78 2.81-2.81c.8-.78.8-2.07 0-2.86zM5.41 20L4 18.59l7.72-7.72 1.47 1.35L5.41 20z\"/>\n",
              "  </svg>\n",
              "      </button>\n",
              "      \n",
              "  <style>\n",
              "    .colab-df-container {\n",
              "      display:flex;\n",
              "      flex-wrap:wrap;\n",
              "      gap: 12px;\n",
              "    }\n",
              "\n",
              "    .colab-df-convert {\n",
              "      background-color: #E8F0FE;\n",
              "      border: none;\n",
              "      border-radius: 50%;\n",
              "      cursor: pointer;\n",
              "      display: none;\n",
              "      fill: #1967D2;\n",
              "      height: 32px;\n",
              "      padding: 0 0 0 0;\n",
              "      width: 32px;\n",
              "    }\n",
              "\n",
              "    .colab-df-convert:hover {\n",
              "      background-color: #E2EBFA;\n",
              "      box-shadow: 0px 1px 2px rgba(60, 64, 67, 0.3), 0px 1px 3px 1px rgba(60, 64, 67, 0.15);\n",
              "      fill: #174EA6;\n",
              "    }\n",
              "\n",
              "    [theme=dark] .colab-df-convert {\n",
              "      background-color: #3B4455;\n",
              "      fill: #D2E3FC;\n",
              "    }\n",
              "\n",
              "    [theme=dark] .colab-df-convert:hover {\n",
              "      background-color: #434B5C;\n",
              "      box-shadow: 0px 1px 3px 1px rgba(0, 0, 0, 0.15);\n",
              "      filter: drop-shadow(0px 1px 2px rgba(0, 0, 0, 0.3));\n",
              "      fill: #FFFFFF;\n",
              "    }\n",
              "  </style>\n",
              "\n",
              "      <script>\n",
              "        const buttonEl =\n",
              "          document.querySelector('#df-0a1341cb-caeb-4b7c-b3fb-e77cdf2c75c2 button.colab-df-convert');\n",
              "        buttonEl.style.display =\n",
              "          google.colab.kernel.accessAllowed ? 'block' : 'none';\n",
              "\n",
              "        async function convertToInteractive(key) {\n",
              "          const element = document.querySelector('#df-0a1341cb-caeb-4b7c-b3fb-e77cdf2c75c2');\n",
              "          const dataTable =\n",
              "            await google.colab.kernel.invokeFunction('convertToInteractive',\n",
              "                                                     [key], {});\n",
              "          if (!dataTable) return;\n",
              "\n",
              "          const docLinkHtml = 'Like what you see? Visit the ' +\n",
              "            '<a target=\"_blank\" href=https://colab.research.google.com/notebooks/data_table.ipynb>data table notebook</a>'\n",
              "            + ' to learn more about interactive tables.';\n",
              "          element.innerHTML = '';\n",
              "          dataTable['output_type'] = 'display_data';\n",
              "          await google.colab.output.renderOutput(dataTable, element);\n",
              "          const docLink = document.createElement('div');\n",
              "          docLink.innerHTML = docLinkHtml;\n",
              "          element.appendChild(docLink);\n",
              "        }\n",
              "      </script>\n",
              "    </div>\n",
              "  </div>\n",
              "  "
            ],
            "text/plain": [
              "   Age  Sex ChestPainType  ...  Oldpeak  ST_Slope  HeartDisease\n",
              "0   40    1           ATA  ...      0.0        Up             0\n",
              "1   49    0           NAP  ...      1.0      Flat             1\n",
              "2   37    1           ATA  ...      0.0        Up             0\n",
              "3   48    0           ASY  ...      1.5      Flat             1\n",
              "4   54    1           NAP  ...      0.0        Up             0\n",
              "\n",
              "[5 rows x 12 columns]"
            ]
          },
          "metadata": {},
          "execution_count": 123
        }
      ]
    },
    {
      "cell_type": "markdown",
      "source": [
        "There are no other outliers observed, so  it is time to Perform a Train-Test split on the day"
      ],
      "metadata": {
        "id": "eHqzRBabQjmH"
      }
    },
    {
      "cell_type": "code",
      "source": [
        "# Identify the Features and target\n",
        "y = heart_df['HeartDisease']\n",
        "X = heart_df.drop(columns = 'HeartDisease')\n",
        "\n",
        "# Perform Test Train Split\n",
        "X_train, X_test, y_train, y_test = train_test_split(X, y, random_state = 3)"
      ],
      "metadata": {
        "id": "3qmmD56GQqDZ"
      },
      "execution_count": 124,
      "outputs": []
    },
    {
      "cell_type": "markdown",
      "source": [
        "#3) The Next Step is to use a column transformer to scale the numeric features and one-hot encode the categorical features"
      ],
      "metadata": {
        "id": "M66207ZFRaNu"
      }
    },
    {
      "cell_type": "code",
      "source": [
        "# Instantiate scaler and One Hot encoder\n",
        "scaler = StandardScaler()\n",
        "ohe = OneHotEncoder(sparse = False, handle_unknown = 'ignore')\n",
        "\n",
        "# Make Column Selectors\n",
        "number_selector = make_column_selector(dtype_include='number')\n",
        "category_selector = make_column_selector(dtype_include='object')\n",
        "\n",
        "# Make tuples\n",
        "number_tuple = (scaler, number_selector)\n",
        "category_tuple = (ohe, category_selector)"
      ],
      "metadata": {
        "id": "wRDPQ1tQRZxN"
      },
      "execution_count": 125,
      "outputs": []
    },
    {
      "cell_type": "code",
      "source": [
        "# Create a preprocessing column Transformer with tuples\n",
        "preprocessor = make_column_transformer(number_tuple, category_tuple)\n",
        "preprocessor"
      ],
      "metadata": {
        "colab": {
          "base_uri": "https://localhost:8080/",
          "height": 118
        },
        "id": "ZotN1lsxo3Fw",
        "outputId": "0c7b2abe-c859-4b4d-a7e0-5fcd8099868c"
      },
      "execution_count": 126,
      "outputs": [
        {
          "output_type": "execute_result",
          "data": {
            "text/html": [
              "<style>#sk-50fe4b7f-85f0-4959-b795-dfd8deb66b8e {color: black;background-color: white;}#sk-50fe4b7f-85f0-4959-b795-dfd8deb66b8e pre{padding: 0;}#sk-50fe4b7f-85f0-4959-b795-dfd8deb66b8e div.sk-toggleable {background-color: white;}#sk-50fe4b7f-85f0-4959-b795-dfd8deb66b8e label.sk-toggleable__label {cursor: pointer;display: block;width: 100%;margin-bottom: 0;padding: 0.3em;box-sizing: border-box;text-align: center;}#sk-50fe4b7f-85f0-4959-b795-dfd8deb66b8e label.sk-toggleable__label-arrow:before {content: \"▸\";float: left;margin-right: 0.25em;color: #696969;}#sk-50fe4b7f-85f0-4959-b795-dfd8deb66b8e label.sk-toggleable__label-arrow:hover:before {color: black;}#sk-50fe4b7f-85f0-4959-b795-dfd8deb66b8e div.sk-estimator:hover label.sk-toggleable__label-arrow:before {color: black;}#sk-50fe4b7f-85f0-4959-b795-dfd8deb66b8e div.sk-toggleable__content {max-height: 0;max-width: 0;overflow: hidden;text-align: left;background-color: #f0f8ff;}#sk-50fe4b7f-85f0-4959-b795-dfd8deb66b8e div.sk-toggleable__content pre {margin: 0.2em;color: black;border-radius: 0.25em;background-color: #f0f8ff;}#sk-50fe4b7f-85f0-4959-b795-dfd8deb66b8e input.sk-toggleable__control:checked~div.sk-toggleable__content {max-height: 200px;max-width: 100%;overflow: auto;}#sk-50fe4b7f-85f0-4959-b795-dfd8deb66b8e input.sk-toggleable__control:checked~label.sk-toggleable__label-arrow:before {content: \"▾\";}#sk-50fe4b7f-85f0-4959-b795-dfd8deb66b8e div.sk-estimator input.sk-toggleable__control:checked~label.sk-toggleable__label {background-color: #d4ebff;}#sk-50fe4b7f-85f0-4959-b795-dfd8deb66b8e div.sk-label input.sk-toggleable__control:checked~label.sk-toggleable__label {background-color: #d4ebff;}#sk-50fe4b7f-85f0-4959-b795-dfd8deb66b8e input.sk-hidden--visually {border: 0;clip: rect(1px 1px 1px 1px);clip: rect(1px, 1px, 1px, 1px);height: 1px;margin: -1px;overflow: hidden;padding: 0;position: absolute;width: 1px;}#sk-50fe4b7f-85f0-4959-b795-dfd8deb66b8e div.sk-estimator {font-family: monospace;background-color: #f0f8ff;border: 1px dotted black;border-radius: 0.25em;box-sizing: border-box;margin-bottom: 0.5em;}#sk-50fe4b7f-85f0-4959-b795-dfd8deb66b8e div.sk-estimator:hover {background-color: #d4ebff;}#sk-50fe4b7f-85f0-4959-b795-dfd8deb66b8e div.sk-parallel-item::after {content: \"\";width: 100%;border-bottom: 1px solid gray;flex-grow: 1;}#sk-50fe4b7f-85f0-4959-b795-dfd8deb66b8e div.sk-label:hover label.sk-toggleable__label {background-color: #d4ebff;}#sk-50fe4b7f-85f0-4959-b795-dfd8deb66b8e div.sk-serial::before {content: \"\";position: absolute;border-left: 1px solid gray;box-sizing: border-box;top: 2em;bottom: 0;left: 50%;}#sk-50fe4b7f-85f0-4959-b795-dfd8deb66b8e div.sk-serial {display: flex;flex-direction: column;align-items: center;background-color: white;padding-right: 0.2em;padding-left: 0.2em;}#sk-50fe4b7f-85f0-4959-b795-dfd8deb66b8e div.sk-item {z-index: 1;}#sk-50fe4b7f-85f0-4959-b795-dfd8deb66b8e div.sk-parallel {display: flex;align-items: stretch;justify-content: center;background-color: white;}#sk-50fe4b7f-85f0-4959-b795-dfd8deb66b8e div.sk-parallel::before {content: \"\";position: absolute;border-left: 1px solid gray;box-sizing: border-box;top: 2em;bottom: 0;left: 50%;}#sk-50fe4b7f-85f0-4959-b795-dfd8deb66b8e div.sk-parallel-item {display: flex;flex-direction: column;position: relative;background-color: white;}#sk-50fe4b7f-85f0-4959-b795-dfd8deb66b8e div.sk-parallel-item:first-child::after {align-self: flex-end;width: 50%;}#sk-50fe4b7f-85f0-4959-b795-dfd8deb66b8e div.sk-parallel-item:last-child::after {align-self: flex-start;width: 50%;}#sk-50fe4b7f-85f0-4959-b795-dfd8deb66b8e div.sk-parallel-item:only-child::after {width: 0;}#sk-50fe4b7f-85f0-4959-b795-dfd8deb66b8e div.sk-dashed-wrapped {border: 1px dashed gray;margin: 0 0.4em 0.5em 0.4em;box-sizing: border-box;padding-bottom: 0.4em;background-color: white;position: relative;}#sk-50fe4b7f-85f0-4959-b795-dfd8deb66b8e div.sk-label label {font-family: monospace;font-weight: bold;background-color: white;display: inline-block;line-height: 1.2em;}#sk-50fe4b7f-85f0-4959-b795-dfd8deb66b8e div.sk-label-container {position: relative;z-index: 2;text-align: center;}#sk-50fe4b7f-85f0-4959-b795-dfd8deb66b8e div.sk-container {/* jupyter's `normalize.less` sets `[hidden] { display: none; }` but bootstrap.min.css set `[hidden] { display: none !important; }` so we also need the `!important` here to be able to override the default hidden behavior on the sphinx rendered scikit-learn.org. See: https://github.com/scikit-learn/scikit-learn/issues/21755 */display: inline-block !important;position: relative;}#sk-50fe4b7f-85f0-4959-b795-dfd8deb66b8e div.sk-text-repr-fallback {display: none;}</style><div id=\"sk-50fe4b7f-85f0-4959-b795-dfd8deb66b8e\" class=\"sk-top-container\"><div class=\"sk-text-repr-fallback\"><pre>ColumnTransformer(transformers=[(&#x27;standardscaler&#x27;, StandardScaler(),\n",
              "                                 &lt;sklearn.compose._column_transformer.make_column_selector object at 0x7f144119c8d0&gt;),\n",
              "                                (&#x27;onehotencoder&#x27;,\n",
              "                                 OneHotEncoder(handle_unknown=&#x27;ignore&#x27;,\n",
              "                                               sparse=False),\n",
              "                                 &lt;sklearn.compose._column_transformer.make_column_selector object at 0x7f144119cbd0&gt;)])</pre><b>Please rerun this cell to show the HTML repr or trust the notebook.</b></div><div class=\"sk-container\" hidden><div class=\"sk-item sk-dashed-wrapped\"><div class=\"sk-label-container\"><div class=\"sk-label sk-toggleable\"><input class=\"sk-toggleable__control sk-hidden--visually\" id=\"95c3a6b0-58a9-4a67-99aa-8cd6095a60cb\" type=\"checkbox\" ><label for=\"95c3a6b0-58a9-4a67-99aa-8cd6095a60cb\" class=\"sk-toggleable__label sk-toggleable__label-arrow\">ColumnTransformer</label><div class=\"sk-toggleable__content\"><pre>ColumnTransformer(transformers=[(&#x27;standardscaler&#x27;, StandardScaler(),\n",
              "                                 &lt;sklearn.compose._column_transformer.make_column_selector object at 0x7f144119c8d0&gt;),\n",
              "                                (&#x27;onehotencoder&#x27;,\n",
              "                                 OneHotEncoder(handle_unknown=&#x27;ignore&#x27;,\n",
              "                                               sparse=False),\n",
              "                                 &lt;sklearn.compose._column_transformer.make_column_selector object at 0x7f144119cbd0&gt;)])</pre></div></div></div><div class=\"sk-parallel\"><div class=\"sk-parallel-item\"><div class=\"sk-item\"><div class=\"sk-label-container\"><div class=\"sk-label sk-toggleable\"><input class=\"sk-toggleable__control sk-hidden--visually\" id=\"639d3a6e-477f-407f-8273-170fa00b5648\" type=\"checkbox\" ><label for=\"639d3a6e-477f-407f-8273-170fa00b5648\" class=\"sk-toggleable__label sk-toggleable__label-arrow\">standardscaler</label><div class=\"sk-toggleable__content\"><pre>&lt;sklearn.compose._column_transformer.make_column_selector object at 0x7f144119c8d0&gt;</pre></div></div></div><div class=\"sk-serial\"><div class=\"sk-item\"><div class=\"sk-estimator sk-toggleable\"><input class=\"sk-toggleable__control sk-hidden--visually\" id=\"051c652c-627f-4453-a2dc-5154b33b6f15\" type=\"checkbox\" ><label for=\"051c652c-627f-4453-a2dc-5154b33b6f15\" class=\"sk-toggleable__label sk-toggleable__label-arrow\">StandardScaler</label><div class=\"sk-toggleable__content\"><pre>StandardScaler()</pre></div></div></div></div></div></div><div class=\"sk-parallel-item\"><div class=\"sk-item\"><div class=\"sk-label-container\"><div class=\"sk-label sk-toggleable\"><input class=\"sk-toggleable__control sk-hidden--visually\" id=\"6bf7d5fd-c6fe-44d8-9de2-68be34bb6049\" type=\"checkbox\" ><label for=\"6bf7d5fd-c6fe-44d8-9de2-68be34bb6049\" class=\"sk-toggleable__label sk-toggleable__label-arrow\">onehotencoder</label><div class=\"sk-toggleable__content\"><pre>&lt;sklearn.compose._column_transformer.make_column_selector object at 0x7f144119cbd0&gt;</pre></div></div></div><div class=\"sk-serial\"><div class=\"sk-item\"><div class=\"sk-estimator sk-toggleable\"><input class=\"sk-toggleable__control sk-hidden--visually\" id=\"85b93090-8b65-46fc-9150-0041fc686b3c\" type=\"checkbox\" ><label for=\"85b93090-8b65-46fc-9150-0041fc686b3c\" class=\"sk-toggleable__label sk-toggleable__label-arrow\">OneHotEncoder</label><div class=\"sk-toggleable__content\"><pre>OneHotEncoder(handle_unknown=&#x27;ignore&#x27;, sparse=False)</pre></div></div></div></div></div></div></div></div></div></div>"
            ],
            "text/plain": [
              "ColumnTransformer(transformers=[('standardscaler', StandardScaler(),\n",
              "                                 <sklearn.compose._column_transformer.make_column_selector object at 0x7f144119c8d0>),\n",
              "                                ('onehotencoder',\n",
              "                                 OneHotEncoder(handle_unknown='ignore',\n",
              "                                               sparse=False),\n",
              "                                 <sklearn.compose._column_transformer.make_column_selector object at 0x7f144119cbd0>)])"
            ]
          },
          "metadata": {},
          "execution_count": 126
        }
      ]
    },
    {
      "cell_type": "code",
      "source": [
        "# Fit and transform the preprocessor to the data\n",
        "X_train_tramsformed = preprocessor.fit_transform(X_train)\n",
        "X_test_transformed = preprocessor.transform(X_test)"
      ],
      "metadata": {
        "id": "63eRvUGPpR8O"
      },
      "execution_count": 127,
      "outputs": []
    },
    {
      "cell_type": "markdown",
      "source": [
        "Now that the data is is onehot encoded, scaled and fit to the data, we can now define our base sequential model."
      ],
      "metadata": {
        "id": "CqLcwiiCqPth"
      }
    },
    {
      "cell_type": "code",
      "source": [
        "# Define our network structur and save the number of features as input shape\n",
        "input_shape = X_train.shape[1]\n",
        "input_shape"
      ],
      "metadata": {
        "colab": {
          "base_uri": "https://localhost:8080/"
        },
        "id": "DIXkMx98rMaO",
        "outputId": "ce71ad32-37ad-49e1-ed8b-70845d886a61"
      },
      "execution_count": 128,
      "outputs": [
        {
          "output_type": "execute_result",
          "data": {
            "text/plain": [
              "11"
            ]
          },
          "metadata": {},
          "execution_count": 128
        }
      ]
    },
    {
      "cell_type": "markdown",
      "source": [
        "#4) Define Base sequential model\n",
        "\n",
        "#5) Include the number of features of each sample in your input layer"
      ],
      "metadata": {
        "id": "USHHUobJs8kH"
      }
    },
    {
      "cell_type": "code",
      "source": [
        "# Build the model\n",
        "class_heart_model = Sequential()\n",
        "\n",
        "# Create a hidden layer\n",
        "class_heart_model(Dense(11, \n",
        "                        input_dim = input_shape,\n",
        "                        activation = 'relu'))\n",
        "\n",
        "# Create a second hidden layer\n",
        "class_heart_model.add(Dense(8,\n",
        "                            activation = 'relu'))"
      ],
      "metadata": {
        "colab": {
          "base_uri": "https://localhost:8080/"
        },
        "id": "StxvljA2qYU7",
        "outputId": "e0e7ba52-6801-4cab-fa00-36f48496f303"
      },
      "execution_count": 132,
      "outputs": [
        {
          "output_type": "stream",
          "name": "stdout",
          "text": [
            "WARNING:tensorflow:Layers in a Sequential model should only have a single input tensor. Received: inputs=<keras.layers.core.dense.Dense object at 0x7f143c6c0790>. Consider rewriting this model with the Functional API.\n"
          ]
        }
      ]
    },
    {
      "cell_type": "markdown",
      "source": [
        "# 6) Create a porper output layer with the correct function"
      ],
      "metadata": {
        "id": "HwDjtkDis1GQ"
      }
    },
    {
      "cell_type": "code",
      "source": [
        "# Output layer\n",
        "class_heart_model.add(Dense(1,\n",
        "                            activation = 'sigmoid'))"
      ],
      "metadata": {
        "id": "QyvcxtHzs4-q"
      },
      "execution_count": 133,
      "outputs": []
    },
    {
      "cell_type": "markdown",
      "source": [
        "# 7) Compile your model with the correct loss function and an optimizer (‘adam’ is a fine choice)"
      ],
      "metadata": {
        "id": "Y3u_hZqGtYpm"
      }
    },
    {
      "cell_type": "code",
      "source": [
        "# Compile the model with 'bce' loss function and 'adam' optimizer\n",
        "class_heart_model.compile(loss = 'bce', optimizer = 'adam', metrics = ['accuracy'])"
      ],
      "metadata": {
        "id": "TOheMXieta6i"
      },
      "execution_count": 134,
      "outputs": []
    },
    {
      "cell_type": "code",
      "source": [
        "# Fit the model\n",
        "history = class_heart_model.fit(X_train_tramsformed, y_train,\n",
        "                                validation_data = (X_test_transformed, y_test),\n",
        "                                epochs = 100)"
      ],
      "metadata": {
        "colab": {
          "base_uri": "https://localhost:8080/"
        },
        "id": "x7p71a-dtzn9",
        "outputId": "b5b344d0-70a5-44fa-b46a-c6ed322fdb51"
      },
      "execution_count": 136,
      "outputs": [
        {
          "output_type": "stream",
          "name": "stdout",
          "text": [
            "Epoch 1/100\n",
            "22/22 [==============================] - 7s 198ms/step - loss: 0.6622 - accuracy: 0.6346 - val_loss: 0.6619 - val_accuracy: 0.6174\n",
            "Epoch 2/100\n",
            "22/22 [==============================] - 0s 7ms/step - loss: 0.6234 - accuracy: 0.6623 - val_loss: 0.6197 - val_accuracy: 0.6565\n",
            "Epoch 3/100\n",
            "22/22 [==============================] - 0s 8ms/step - loss: 0.5917 - accuracy: 0.7045 - val_loss: 0.5813 - val_accuracy: 0.7000\n",
            "Epoch 4/100\n",
            "22/22 [==============================] - 0s 6ms/step - loss: 0.5631 - accuracy: 0.7278 - val_loss: 0.5501 - val_accuracy: 0.7348\n",
            "Epoch 5/100\n",
            "22/22 [==============================] - 0s 4ms/step - loss: 0.5388 - accuracy: 0.7380 - val_loss: 0.5224 - val_accuracy: 0.7696\n",
            "Epoch 6/100\n",
            "22/22 [==============================] - 0s 4ms/step - loss: 0.5167 - accuracy: 0.7613 - val_loss: 0.4991 - val_accuracy: 0.8000\n",
            "Epoch 7/100\n",
            "22/22 [==============================] - 3s 133ms/step - loss: 0.4973 - accuracy: 0.7846 - val_loss: 0.4771 - val_accuracy: 0.8130\n",
            "Epoch 8/100\n",
            "22/22 [==============================] - 0s 6ms/step - loss: 0.4801 - accuracy: 0.7933 - val_loss: 0.4584 - val_accuracy: 0.8261\n",
            "Epoch 9/100\n",
            "22/22 [==============================] - 0s 8ms/step - loss: 0.4643 - accuracy: 0.8035 - val_loss: 0.4413 - val_accuracy: 0.8217\n",
            "Epoch 10/100\n",
            "22/22 [==============================] - 0s 6ms/step - loss: 0.4509 - accuracy: 0.8079 - val_loss: 0.4274 - val_accuracy: 0.8261\n",
            "Epoch 11/100\n",
            "22/22 [==============================] - 0s 6ms/step - loss: 0.4386 - accuracy: 0.8093 - val_loss: 0.4156 - val_accuracy: 0.8304\n",
            "Epoch 12/100\n",
            "22/22 [==============================] - 4s 182ms/step - loss: 0.4279 - accuracy: 0.8093 - val_loss: 0.4043 - val_accuracy: 0.8435\n",
            "Epoch 13/100\n",
            "22/22 [==============================] - 0s 6ms/step - loss: 0.4178 - accuracy: 0.8210 - val_loss: 0.3958 - val_accuracy: 0.8478\n",
            "Epoch 14/100\n",
            "22/22 [==============================] - 0s 6ms/step - loss: 0.4087 - accuracy: 0.8297 - val_loss: 0.3864 - val_accuracy: 0.8522\n",
            "Epoch 15/100\n",
            "22/22 [==============================] - 0s 6ms/step - loss: 0.4008 - accuracy: 0.8282 - val_loss: 0.3798 - val_accuracy: 0.8522\n",
            "Epoch 16/100\n",
            "22/22 [==============================] - 0s 6ms/step - loss: 0.3932 - accuracy: 0.8297 - val_loss: 0.3745 - val_accuracy: 0.8565\n",
            "Epoch 17/100\n",
            "22/22 [==============================] - 4s 177ms/step - loss: 0.3867 - accuracy: 0.8297 - val_loss: 0.3685 - val_accuracy: 0.8609\n",
            "Epoch 18/100\n",
            "22/22 [==============================] - 0s 5ms/step - loss: 0.3806 - accuracy: 0.8297 - val_loss: 0.3632 - val_accuracy: 0.8609\n",
            "Epoch 19/100\n",
            "22/22 [==============================] - 0s 6ms/step - loss: 0.3748 - accuracy: 0.8341 - val_loss: 0.3593 - val_accuracy: 0.8565\n",
            "Epoch 20/100\n",
            "22/22 [==============================] - 0s 8ms/step - loss: 0.3701 - accuracy: 0.8428 - val_loss: 0.3570 - val_accuracy: 0.8565\n",
            "Epoch 21/100\n",
            "22/22 [==============================] - 0s 8ms/step - loss: 0.3658 - accuracy: 0.8457 - val_loss: 0.3527 - val_accuracy: 0.8565\n",
            "Epoch 22/100\n",
            "22/22 [==============================] - 0s 8ms/step - loss: 0.3617 - accuracy: 0.8472 - val_loss: 0.3499 - val_accuracy: 0.8565\n",
            "Epoch 23/100\n",
            "22/22 [==============================] - 0s 6ms/step - loss: 0.3580 - accuracy: 0.8457 - val_loss: 0.3485 - val_accuracy: 0.8609\n",
            "Epoch 24/100\n",
            "22/22 [==============================] - 0s 8ms/step - loss: 0.3548 - accuracy: 0.8530 - val_loss: 0.3474 - val_accuracy: 0.8609\n",
            "Epoch 25/100\n",
            "22/22 [==============================] - 0s 6ms/step - loss: 0.3517 - accuracy: 0.8559 - val_loss: 0.3462 - val_accuracy: 0.8609\n",
            "Epoch 26/100\n",
            "22/22 [==============================] - 0s 6ms/step - loss: 0.3490 - accuracy: 0.8588 - val_loss: 0.3449 - val_accuracy: 0.8652\n",
            "Epoch 27/100\n",
            "22/22 [==============================] - 0s 8ms/step - loss: 0.3465 - accuracy: 0.8603 - val_loss: 0.3434 - val_accuracy: 0.8652\n",
            "Epoch 28/100\n",
            "22/22 [==============================] - 3s 155ms/step - loss: 0.3444 - accuracy: 0.8646 - val_loss: 0.3421 - val_accuracy: 0.8652\n",
            "Epoch 29/100\n",
            "22/22 [==============================] - 0s 6ms/step - loss: 0.3427 - accuracy: 0.8646 - val_loss: 0.3420 - val_accuracy: 0.8652\n",
            "Epoch 30/100\n",
            "22/22 [==============================] - 0s 6ms/step - loss: 0.3406 - accuracy: 0.8675 - val_loss: 0.3409 - val_accuracy: 0.8652\n",
            "Epoch 31/100\n",
            "22/22 [==============================] - 0s 5ms/step - loss: 0.3390 - accuracy: 0.8675 - val_loss: 0.3418 - val_accuracy: 0.8652\n",
            "Epoch 32/100\n",
            "22/22 [==============================] - 0s 7ms/step - loss: 0.3376 - accuracy: 0.8661 - val_loss: 0.3428 - val_accuracy: 0.8696\n",
            "Epoch 33/100\n",
            "22/22 [==============================] - 0s 7ms/step - loss: 0.3360 - accuracy: 0.8675 - val_loss: 0.3406 - val_accuracy: 0.8652\n",
            "Epoch 34/100\n",
            "22/22 [==============================] - 0s 8ms/step - loss: 0.3345 - accuracy: 0.8661 - val_loss: 0.3398 - val_accuracy: 0.8652\n",
            "Epoch 35/100\n",
            "22/22 [==============================] - 0s 8ms/step - loss: 0.3336 - accuracy: 0.8675 - val_loss: 0.3397 - val_accuracy: 0.8652\n",
            "Epoch 36/100\n",
            "22/22 [==============================] - 0s 6ms/step - loss: 0.3323 - accuracy: 0.8661 - val_loss: 0.3384 - val_accuracy: 0.8652\n",
            "Epoch 37/100\n",
            "22/22 [==============================] - 0s 6ms/step - loss: 0.3311 - accuracy: 0.8646 - val_loss: 0.3397 - val_accuracy: 0.8652\n",
            "Epoch 38/100\n",
            "22/22 [==============================] - 0s 6ms/step - loss: 0.3300 - accuracy: 0.8675 - val_loss: 0.3398 - val_accuracy: 0.8696\n",
            "Epoch 39/100\n",
            "22/22 [==============================] - 3s 130ms/step - loss: 0.3290 - accuracy: 0.8705 - val_loss: 0.3395 - val_accuracy: 0.8609\n",
            "Epoch 40/100\n",
            "22/22 [==============================] - 0s 6ms/step - loss: 0.3283 - accuracy: 0.8705 - val_loss: 0.3394 - val_accuracy: 0.8609\n",
            "Epoch 41/100\n",
            "22/22 [==============================] - 0s 6ms/step - loss: 0.3283 - accuracy: 0.8690 - val_loss: 0.3380 - val_accuracy: 0.8609\n",
            "Epoch 42/100\n",
            "22/22 [==============================] - 0s 6ms/step - loss: 0.3269 - accuracy: 0.8705 - val_loss: 0.3391 - val_accuracy: 0.8609\n",
            "Epoch 43/100\n",
            "22/22 [==============================] - 0s 9ms/step - loss: 0.3256 - accuracy: 0.8661 - val_loss: 0.3383 - val_accuracy: 0.8609\n",
            "Epoch 44/100\n",
            "22/22 [==============================] - 0s 6ms/step - loss: 0.3250 - accuracy: 0.8705 - val_loss: 0.3380 - val_accuracy: 0.8609\n",
            "Epoch 45/100\n",
            "22/22 [==============================] - 0s 7ms/step - loss: 0.3244 - accuracy: 0.8690 - val_loss: 0.3379 - val_accuracy: 0.8609\n",
            "Epoch 46/100\n",
            "22/22 [==============================] - 0s 8ms/step - loss: 0.3235 - accuracy: 0.8690 - val_loss: 0.3379 - val_accuracy: 0.8609\n",
            "Epoch 47/100\n",
            "22/22 [==============================] - 0s 6ms/step - loss: 0.3232 - accuracy: 0.8690 - val_loss: 0.3372 - val_accuracy: 0.8609\n",
            "Epoch 48/100\n",
            "22/22 [==============================] - 0s 7ms/step - loss: 0.3222 - accuracy: 0.8705 - val_loss: 0.3391 - val_accuracy: 0.8609\n",
            "Epoch 49/100\n",
            "22/22 [==============================] - 0s 7ms/step - loss: 0.3216 - accuracy: 0.8690 - val_loss: 0.3384 - val_accuracy: 0.8609\n",
            "Epoch 50/100\n",
            "22/22 [==============================] - 0s 6ms/step - loss: 0.3213 - accuracy: 0.8690 - val_loss: 0.3379 - val_accuracy: 0.8609\n",
            "Epoch 51/100\n",
            "22/22 [==============================] - 0s 6ms/step - loss: 0.3204 - accuracy: 0.8690 - val_loss: 0.3392 - val_accuracy: 0.8609\n",
            "Epoch 52/100\n",
            "22/22 [==============================] - 0s 10ms/step - loss: 0.3197 - accuracy: 0.8690 - val_loss: 0.3385 - val_accuracy: 0.8609\n",
            "Epoch 53/100\n",
            "22/22 [==============================] - 0s 6ms/step - loss: 0.3192 - accuracy: 0.8690 - val_loss: 0.3379 - val_accuracy: 0.8609\n",
            "Epoch 54/100\n",
            "22/22 [==============================] - 0s 6ms/step - loss: 0.3184 - accuracy: 0.8661 - val_loss: 0.3375 - val_accuracy: 0.8609\n",
            "Epoch 55/100\n",
            "22/22 [==============================] - 0s 6ms/step - loss: 0.3177 - accuracy: 0.8675 - val_loss: 0.3375 - val_accuracy: 0.8609\n",
            "Epoch 56/100\n",
            "22/22 [==============================] - 0s 6ms/step - loss: 0.3172 - accuracy: 0.8690 - val_loss: 0.3377 - val_accuracy: 0.8609\n",
            "Epoch 57/100\n",
            "22/22 [==============================] - 0s 6ms/step - loss: 0.3172 - accuracy: 0.8690 - val_loss: 0.3392 - val_accuracy: 0.8565\n",
            "Epoch 58/100\n",
            "22/22 [==============================] - 3s 160ms/step - loss: 0.3162 - accuracy: 0.8705 - val_loss: 0.3388 - val_accuracy: 0.8565\n",
            "Epoch 59/100\n",
            "22/22 [==============================] - 0s 8ms/step - loss: 0.3157 - accuracy: 0.8705 - val_loss: 0.3394 - val_accuracy: 0.8565\n",
            "Epoch 60/100\n",
            "22/22 [==============================] - 0s 6ms/step - loss: 0.3151 - accuracy: 0.8690 - val_loss: 0.3388 - val_accuracy: 0.8565\n",
            "Epoch 61/100\n",
            "22/22 [==============================] - 0s 6ms/step - loss: 0.3144 - accuracy: 0.8690 - val_loss: 0.3391 - val_accuracy: 0.8565\n",
            "Epoch 62/100\n",
            "22/22 [==============================] - 0s 6ms/step - loss: 0.3136 - accuracy: 0.8690 - val_loss: 0.3391 - val_accuracy: 0.8565\n",
            "Epoch 63/100\n",
            "22/22 [==============================] - 0s 6ms/step - loss: 0.3132 - accuracy: 0.8705 - val_loss: 0.3396 - val_accuracy: 0.8565\n",
            "Epoch 64/100\n",
            "22/22 [==============================] - 0s 6ms/step - loss: 0.3127 - accuracy: 0.8705 - val_loss: 0.3390 - val_accuracy: 0.8565\n",
            "Epoch 65/100\n",
            "22/22 [==============================] - 0s 6ms/step - loss: 0.3125 - accuracy: 0.8719 - val_loss: 0.3388 - val_accuracy: 0.8565\n",
            "Epoch 66/100\n",
            "22/22 [==============================] - 0s 6ms/step - loss: 0.3118 - accuracy: 0.8719 - val_loss: 0.3380 - val_accuracy: 0.8565\n",
            "Epoch 67/100\n",
            "22/22 [==============================] - 0s 8ms/step - loss: 0.3115 - accuracy: 0.8705 - val_loss: 0.3383 - val_accuracy: 0.8565\n",
            "Epoch 68/100\n",
            "22/22 [==============================] - 0s 8ms/step - loss: 0.3106 - accuracy: 0.8719 - val_loss: 0.3389 - val_accuracy: 0.8565\n",
            "Epoch 69/100\n",
            "22/22 [==============================] - 0s 8ms/step - loss: 0.3103 - accuracy: 0.8719 - val_loss: 0.3390 - val_accuracy: 0.8565\n",
            "Epoch 70/100\n",
            "22/22 [==============================] - 0s 6ms/step - loss: 0.3098 - accuracy: 0.8719 - val_loss: 0.3380 - val_accuracy: 0.8565\n",
            "Epoch 71/100\n",
            "22/22 [==============================] - 0s 6ms/step - loss: 0.3093 - accuracy: 0.8719 - val_loss: 0.3383 - val_accuracy: 0.8565\n",
            "Epoch 72/100\n",
            "22/22 [==============================] - 0s 7ms/step - loss: 0.3087 - accuracy: 0.8734 - val_loss: 0.3376 - val_accuracy: 0.8565\n",
            "Epoch 73/100\n",
            "22/22 [==============================] - 0s 7ms/step - loss: 0.3081 - accuracy: 0.8734 - val_loss: 0.3384 - val_accuracy: 0.8565\n",
            "Epoch 74/100\n",
            "22/22 [==============================] - 0s 6ms/step - loss: 0.3079 - accuracy: 0.8734 - val_loss: 0.3380 - val_accuracy: 0.8565\n",
            "Epoch 75/100\n",
            "22/22 [==============================] - 0s 7ms/step - loss: 0.3073 - accuracy: 0.8719 - val_loss: 0.3387 - val_accuracy: 0.8565\n",
            "Epoch 76/100\n",
            "22/22 [==============================] - 0s 5ms/step - loss: 0.3071 - accuracy: 0.8719 - val_loss: 0.3373 - val_accuracy: 0.8565\n",
            "Epoch 77/100\n",
            "22/22 [==============================] - 0s 6ms/step - loss: 0.3067 - accuracy: 0.8734 - val_loss: 0.3376 - val_accuracy: 0.8565\n",
            "Epoch 78/100\n",
            "22/22 [==============================] - 0s 6ms/step - loss: 0.3059 - accuracy: 0.8734 - val_loss: 0.3375 - val_accuracy: 0.8565\n",
            "Epoch 79/100\n",
            "22/22 [==============================] - 3s 159ms/step - loss: 0.3055 - accuracy: 0.8734 - val_loss: 0.3373 - val_accuracy: 0.8565\n",
            "Epoch 80/100\n",
            "22/22 [==============================] - 0s 6ms/step - loss: 0.3051 - accuracy: 0.8734 - val_loss: 0.3367 - val_accuracy: 0.8565\n",
            "Epoch 81/100\n",
            "22/22 [==============================] - 0s 5ms/step - loss: 0.3047 - accuracy: 0.8734 - val_loss: 0.3368 - val_accuracy: 0.8565\n",
            "Epoch 82/100\n",
            "22/22 [==============================] - 0s 6ms/step - loss: 0.3041 - accuracy: 0.8719 - val_loss: 0.3371 - val_accuracy: 0.8565\n",
            "Epoch 83/100\n",
            "22/22 [==============================] - 0s 6ms/step - loss: 0.3036 - accuracy: 0.8734 - val_loss: 0.3379 - val_accuracy: 0.8522\n",
            "Epoch 84/100\n",
            "22/22 [==============================] - 0s 9ms/step - loss: 0.3033 - accuracy: 0.8734 - val_loss: 0.3382 - val_accuracy: 0.8522\n",
            "Epoch 85/100\n",
            "22/22 [==============================] - 4s 184ms/step - loss: 0.3028 - accuracy: 0.8719 - val_loss: 0.3384 - val_accuracy: 0.8522\n",
            "Epoch 86/100\n",
            "22/22 [==============================] - 0s 6ms/step - loss: 0.3022 - accuracy: 0.8734 - val_loss: 0.3387 - val_accuracy: 0.8522\n",
            "Epoch 87/100\n",
            "22/22 [==============================] - 0s 6ms/step - loss: 0.3019 - accuracy: 0.8719 - val_loss: 0.3379 - val_accuracy: 0.8522\n",
            "Epoch 88/100\n",
            "22/22 [==============================] - 0s 5ms/step - loss: 0.3016 - accuracy: 0.8734 - val_loss: 0.3381 - val_accuracy: 0.8522\n",
            "Epoch 89/100\n",
            "22/22 [==============================] - 0s 6ms/step - loss: 0.3011 - accuracy: 0.8734 - val_loss: 0.3388 - val_accuracy: 0.8522\n",
            "Epoch 90/100\n",
            "22/22 [==============================] - 0s 6ms/step - loss: 0.3007 - accuracy: 0.8748 - val_loss: 0.3396 - val_accuracy: 0.8522\n",
            "Epoch 91/100\n",
            "22/22 [==============================] - 3s 8ms/step - loss: 0.3003 - accuracy: 0.8748 - val_loss: 0.3386 - val_accuracy: 0.8522\n",
            "Epoch 92/100\n",
            "22/22 [==============================] - 0s 6ms/step - loss: 0.2998 - accuracy: 0.8734 - val_loss: 0.3386 - val_accuracy: 0.8522\n",
            "Epoch 93/100\n",
            "22/22 [==============================] - 0s 8ms/step - loss: 0.2994 - accuracy: 0.8719 - val_loss: 0.3389 - val_accuracy: 0.8522\n",
            "Epoch 94/100\n",
            "22/22 [==============================] - 0s 9ms/step - loss: 0.2991 - accuracy: 0.8734 - val_loss: 0.3398 - val_accuracy: 0.8522\n",
            "Epoch 95/100\n",
            "22/22 [==============================] - 0s 5ms/step - loss: 0.2987 - accuracy: 0.8748 - val_loss: 0.3403 - val_accuracy: 0.8522\n",
            "Epoch 96/100\n",
            "22/22 [==============================] - 0s 6ms/step - loss: 0.2984 - accuracy: 0.8748 - val_loss: 0.3408 - val_accuracy: 0.8522\n",
            "Epoch 97/100\n",
            "22/22 [==============================] - 0s 4ms/step - loss: 0.2980 - accuracy: 0.8734 - val_loss: 0.3403 - val_accuracy: 0.8522\n",
            "Epoch 98/100\n",
            "22/22 [==============================] - 0s 5ms/step - loss: 0.2976 - accuracy: 0.8734 - val_loss: 0.3404 - val_accuracy: 0.8522\n",
            "Epoch 99/100\n",
            "22/22 [==============================] - 0s 6ms/step - loss: 0.2973 - accuracy: 0.8734 - val_loss: 0.3394 - val_accuracy: 0.8522\n",
            "Epoch 100/100\n",
            "22/22 [==============================] - 0s 9ms/step - loss: 0.2970 - accuracy: 0.8748 - val_loss: 0.3401 - val_accuracy: 0.8522\n"
          ]
        }
      ]
    },
    {
      "cell_type": "markdown",
      "source": [
        "#8) Plot your model’s training history."
      ],
      "metadata": {
        "id": "-7Ep6j0wuesy"
      }
    },
    {
      "cell_type": "code",
      "source": [
        "# Write a function to plot the models history\n",
        "def plot_hist(history, metric = None):\n",
        "  \"\"\"metric is passed as string and must match 'metric'\n",
        "  argument in the compile step\"\"\"\n",
        "  fig, axes = plt.subplots(2,1, figsize = (8,8))\n",
        "  axes[0].plot(history.history['loss'], label = 'Training Loss')\n",
        "  axes[0].plot(history.history['val_loss'], label = 'Testing Loss')\n",
        "  axes[0].set_title('Loss')\n",
        "  axes[0].legend()\n",
        "  if metric:\n",
        "    axes[1].plot(history.history[metric], label = 'Training loss')\n",
        "    axes[1].plot(history.history['val_' + metric], label = 'Testing Loss')\n",
        "    axes[1].set_title(metric)\n",
        "    axes[1].legend()\n",
        "  plt.show()"
      ],
      "metadata": {
        "id": "g8kqYjtQucU6"
      },
      "execution_count": 139,
      "outputs": []
    },
    {
      "cell_type": "code",
      "source": [
        "# Plot the history\n",
        "plot_hist(history, 'accuracy')"
      ],
      "metadata": {
        "colab": {
          "base_uri": "https://localhost:8080/",
          "height": 499
        },
        "id": "tbwblOBOwO8Y",
        "outputId": "b390f62b-91f4-42f5-edcb-c10435f2a2b3"
      },
      "execution_count": 140,
      "outputs": [
        {
          "output_type": "display_data",
          "data": {
            "image/png": "[encoded data removed]",
            "text/plain": [
              "<Figure size 576x576 with 2 Axes>"
            ]
          },
          "metadata": {
            "needs_background": "light"
          }
        }
      ]
    },
    {
      "cell_type": "markdown",
      "source": [
        "# 9) Evaluate your models with appropriate metrics"
      ],
      "metadata": {
        "id": "LrVkcIIlw4bB"
      }
    },
    {
      "cell_type": "code",
      "source": [
        "# Make predictions and evaluate your model\n",
        "predictions = class_heart_model.predict(X_test_transformed)\n",
        "pred_processed = np.rint(predictions)\n",
        "print(classification_report(y_test, pred_processed))"
      ],
      "metadata": {
        "colab": {
          "base_uri": "https://localhost:8080/"
        },
        "id": "x_YO1SIzw7MZ",
        "outputId": "8fd815eb-015b-41d2-efe2-c68c20b55434"
      },
      "execution_count": 141,
      "outputs": [
        {
          "output_type": "stream",
          "name": "stdout",
          "text": [
            "              precision    recall  f1-score   support\n",
            "\n",
            "           0       0.89      0.82      0.85       119\n",
            "           1       0.82      0.89      0.85       111\n",
            "\n",
            "    accuracy                           0.85       230\n",
            "   macro avg       0.85      0.85      0.85       230\n",
            "weighted avg       0.86      0.85      0.85       230\n",
            "\n"
          ]
        }
      ]
    },
    {
      "cell_type": "markdown",
      "source": [
        "Witht the classification report, we can see that our model has an accuracy score of 85%"
      ],
      "metadata": {
        "id": "2LLKVOgRxUPC"
      }
    },
    {
      "cell_type": "markdown",
      "source": [
        "After you’ve created, fit, and evaluated your first model, try 2 more versions of it with different numbers of layers and neurons to see if you can create a model that scores better on the testing data."
      ],
      "metadata": {
        "id": "z6_QsTotxeAQ"
      }
    },
    {
      "cell_type": "code",
      "source": [
        "# Version 2 \n",
        "heart_model2 = Sequential()\n",
        "\n",
        "# First Hidden Layer\n",
        "heart_model2(Dense(11, input_dim = input_shape, activation = 'relu'))\n",
        "\n",
        "# Second Hidden Layer\n",
        "heart_model2.add(Dense(8, activation = 'relu'))\n",
        "\n",
        "# Third Hidden Layer \n",
        "heart_model2.add(Dense(4, activation = 'relu'))\n",
        "\n",
        "# Output layer\n",
        "heart_model2.add(Dense(1, activation= 'sigmoid'))"
      ],
      "metadata": {
        "colab": {
          "base_uri": "https://localhost:8080/"
        },
        "id": "ezNR5UgExRrJ",
        "outputId": "ffd3ecc0-129d-4ebb-c83f-8be6bdede654"
      },
      "execution_count": 166,
      "outputs": [
        {
          "output_type": "stream",
          "name": "stdout",
          "text": [
            "WARNING:tensorflow:Layers in a Sequential model should only have a single input tensor. Received: inputs=<keras.layers.core.dense.Dense object at 0x7f143c17e750>. Consider rewriting this model with the Functional API.\n"
          ]
        }
      ]
    },
    {
      "cell_type": "code",
      "source": [
        "# Compile Model\n",
        "heart_model2.compile(loss = 'bce', optimizer = 'adam', metrics = 'accuracy')"
      ],
      "metadata": {
        "id": "P4014AyFyc9f"
      },
      "execution_count": 167,
      "outputs": []
    },
    {
      "cell_type": "code",
      "source": [
        "# Fit the model\n",
        "history2 = heart_model2.fit(X_train_tramsformed, y_train,\n",
        "                                validation_data = (X_test_transformed, y_test),\n",
        "                                epochs = 100)"
      ],
      "metadata": {
        "colab": {
          "base_uri": "https://localhost:8080/"
        },
        "id": "r2Yc7mXoyoIK",
        "outputId": "d50f47b6-072f-47ad-9f54-5c29ad361244"
      },
      "execution_count": 171,
      "outputs": [
        {
          "output_type": "stream",
          "name": "stdout",
          "text": [
            "Epoch 1/100\n",
            "22/22 [==============================] - 2s 8ms/step - loss: 0.3444 - accuracy: 0.8559 - val_loss: 0.3464 - val_accuracy: 0.8478\n",
            "Epoch 2/100\n",
            "22/22 [==============================] - 0s 7ms/step - loss: 0.3424 - accuracy: 0.8588 - val_loss: 0.3450 - val_accuracy: 0.8478\n",
            "Epoch 3/100\n",
            "22/22 [==============================] - 0s 6ms/step - loss: 0.3411 - accuracy: 0.8603 - val_loss: 0.3454 - val_accuracy: 0.8478\n",
            "Epoch 4/100\n",
            "22/22 [==============================] - 0s 7ms/step - loss: 0.3395 - accuracy: 0.8632 - val_loss: 0.3444 - val_accuracy: 0.8522\n",
            "Epoch 5/100\n",
            "22/22 [==============================] - 0s 4ms/step - loss: 0.3382 - accuracy: 0.8617 - val_loss: 0.3431 - val_accuracy: 0.8522\n",
            "Epoch 6/100\n",
            "22/22 [==============================] - 0s 5ms/step - loss: 0.3371 - accuracy: 0.8646 - val_loss: 0.3429 - val_accuracy: 0.8522\n",
            "Epoch 7/100\n",
            "22/22 [==============================] - 0s 4ms/step - loss: 0.3357 - accuracy: 0.8646 - val_loss: 0.3413 - val_accuracy: 0.8478\n",
            "Epoch 8/100\n",
            "22/22 [==============================] - 0s 4ms/step - loss: 0.3348 - accuracy: 0.8632 - val_loss: 0.3406 - val_accuracy: 0.8522\n",
            "Epoch 9/100\n",
            "22/22 [==============================] - 0s 4ms/step - loss: 0.3339 - accuracy: 0.8632 - val_loss: 0.3401 - val_accuracy: 0.8522\n",
            "Epoch 10/100\n",
            "22/22 [==============================] - 0s 4ms/step - loss: 0.3329 - accuracy: 0.8646 - val_loss: 0.3416 - val_accuracy: 0.8565\n",
            "Epoch 11/100\n",
            "22/22 [==============================] - 0s 3ms/step - loss: 0.3321 - accuracy: 0.8661 - val_loss: 0.3417 - val_accuracy: 0.8522\n",
            "Epoch 12/100\n",
            "22/22 [==============================] - 0s 4ms/step - loss: 0.3310 - accuracy: 0.8661 - val_loss: 0.3401 - val_accuracy: 0.8522\n",
            "Epoch 13/100\n",
            "22/22 [==============================] - 0s 4ms/step - loss: 0.3303 - accuracy: 0.8661 - val_loss: 0.3394 - val_accuracy: 0.8565\n",
            "Epoch 14/100\n",
            "22/22 [==============================] - 0s 4ms/step - loss: 0.3293 - accuracy: 0.8675 - val_loss: 0.3398 - val_accuracy: 0.8522\n",
            "Epoch 15/100\n",
            "22/22 [==============================] - 0s 3ms/step - loss: 0.3285 - accuracy: 0.8661 - val_loss: 0.3396 - val_accuracy: 0.8522\n",
            "Epoch 16/100\n",
            "22/22 [==============================] - 0s 3ms/step - loss: 0.3277 - accuracy: 0.8675 - val_loss: 0.3381 - val_accuracy: 0.8522\n",
            "Epoch 17/100\n",
            "22/22 [==============================] - 0s 3ms/step - loss: 0.3269 - accuracy: 0.8705 - val_loss: 0.3388 - val_accuracy: 0.8522\n",
            "Epoch 18/100\n",
            "22/22 [==============================] - 0s 4ms/step - loss: 0.3259 - accuracy: 0.8690 - val_loss: 0.3376 - val_accuracy: 0.8565\n",
            "Epoch 19/100\n",
            "22/22 [==============================] - 0s 4ms/step - loss: 0.3250 - accuracy: 0.8675 - val_loss: 0.3372 - val_accuracy: 0.8522\n",
            "Epoch 20/100\n",
            "22/22 [==============================] - 3s 121ms/step - loss: 0.3243 - accuracy: 0.8675 - val_loss: 0.3382 - val_accuracy: 0.8565\n",
            "Epoch 21/100\n",
            "22/22 [==============================] - 0s 3ms/step - loss: 0.3236 - accuracy: 0.8690 - val_loss: 0.3371 - val_accuracy: 0.8565\n",
            "Epoch 22/100\n",
            "22/22 [==============================] - 0s 5ms/step - loss: 0.3230 - accuracy: 0.8690 - val_loss: 0.3374 - val_accuracy: 0.8522\n",
            "Epoch 23/100\n",
            "22/22 [==============================] - 0s 4ms/step - loss: 0.3226 - accuracy: 0.8705 - val_loss: 0.3348 - val_accuracy: 0.8565\n",
            "Epoch 24/100\n",
            "22/22 [==============================] - 0s 3ms/step - loss: 0.3218 - accuracy: 0.8705 - val_loss: 0.3357 - val_accuracy: 0.8565\n",
            "Epoch 25/100\n",
            "22/22 [==============================] - 0s 4ms/step - loss: 0.3211 - accuracy: 0.8705 - val_loss: 0.3366 - val_accuracy: 0.8522\n",
            "Epoch 26/100\n",
            "22/22 [==============================] - 0s 3ms/step - loss: 0.3205 - accuracy: 0.8705 - val_loss: 0.3359 - val_accuracy: 0.8522\n",
            "Epoch 27/100\n",
            "22/22 [==============================] - 3s 122ms/step - loss: 0.3200 - accuracy: 0.8705 - val_loss: 0.3352 - val_accuracy: 0.8565\n",
            "Epoch 28/100\n",
            "22/22 [==============================] - 0s 4ms/step - loss: 0.3195 - accuracy: 0.8705 - val_loss: 0.3356 - val_accuracy: 0.8565\n",
            "Epoch 29/100\n",
            "22/22 [==============================] - 0s 3ms/step - loss: 0.3190 - accuracy: 0.8705 - val_loss: 0.3346 - val_accuracy: 0.8565\n",
            "Epoch 30/100\n",
            "22/22 [==============================] - 0s 4ms/step - loss: 0.3186 - accuracy: 0.8705 - val_loss: 0.3334 - val_accuracy: 0.8565\n",
            "Epoch 31/100\n",
            "22/22 [==============================] - 0s 4ms/step - loss: 0.3184 - accuracy: 0.8705 - val_loss: 0.3343 - val_accuracy: 0.8522\n",
            "Epoch 32/100\n",
            "22/22 [==============================] - 0s 4ms/step - loss: 0.3178 - accuracy: 0.8719 - val_loss: 0.3329 - val_accuracy: 0.8565\n",
            "Epoch 33/100\n",
            "22/22 [==============================] - 0s 4ms/step - loss: 0.3167 - accuracy: 0.8763 - val_loss: 0.3363 - val_accuracy: 0.8522\n",
            "Epoch 34/100\n",
            "22/22 [==============================] - 0s 4ms/step - loss: 0.3166 - accuracy: 0.8748 - val_loss: 0.3353 - val_accuracy: 0.8522\n",
            "Epoch 35/100\n",
            "22/22 [==============================] - 0s 3ms/step - loss: 0.3159 - accuracy: 0.8763 - val_loss: 0.3353 - val_accuracy: 0.8565\n",
            "Epoch 36/100\n",
            "22/22 [==============================] - 3s 121ms/step - loss: 0.3157 - accuracy: 0.8734 - val_loss: 0.3330 - val_accuracy: 0.8565\n",
            "Epoch 37/100\n",
            "22/22 [==============================] - 0s 4ms/step - loss: 0.3150 - accuracy: 0.8719 - val_loss: 0.3337 - val_accuracy: 0.8565\n",
            "Epoch 38/100\n",
            "22/22 [==============================] - 0s 4ms/step - loss: 0.3152 - accuracy: 0.8705 - val_loss: 0.3323 - val_accuracy: 0.8565\n",
            "Epoch 39/100\n",
            "22/22 [==============================] - 0s 3ms/step - loss: 0.3142 - accuracy: 0.8690 - val_loss: 0.3341 - val_accuracy: 0.8565\n",
            "Epoch 40/100\n",
            "22/22 [==============================] - 0s 3ms/step - loss: 0.3140 - accuracy: 0.8719 - val_loss: 0.3333 - val_accuracy: 0.8522\n",
            "Epoch 41/100\n",
            "22/22 [==============================] - 0s 3ms/step - loss: 0.3136 - accuracy: 0.8719 - val_loss: 0.3342 - val_accuracy: 0.8565\n",
            "Epoch 42/100\n",
            "22/22 [==============================] - 0s 4ms/step - loss: 0.3129 - accuracy: 0.8675 - val_loss: 0.3334 - val_accuracy: 0.8565\n",
            "Epoch 43/100\n",
            "22/22 [==============================] - 0s 4ms/step - loss: 0.3125 - accuracy: 0.8675 - val_loss: 0.3314 - val_accuracy: 0.8565\n",
            "Epoch 44/100\n",
            "22/22 [==============================] - 0s 4ms/step - loss: 0.3121 - accuracy: 0.8705 - val_loss: 0.3302 - val_accuracy: 0.8565\n",
            "Epoch 45/100\n",
            "22/22 [==============================] - 0s 4ms/step - loss: 0.3118 - accuracy: 0.8661 - val_loss: 0.3315 - val_accuracy: 0.8565\n",
            "Epoch 46/100\n",
            "22/22 [==============================] - 0s 4ms/step - loss: 0.3113 - accuracy: 0.8675 - val_loss: 0.3336 - val_accuracy: 0.8522\n",
            "Epoch 47/100\n",
            "22/22 [==============================] - 0s 3ms/step - loss: 0.3105 - accuracy: 0.8705 - val_loss: 0.3321 - val_accuracy: 0.8565\n",
            "Epoch 48/100\n",
            "22/22 [==============================] - 0s 4ms/step - loss: 0.3103 - accuracy: 0.8690 - val_loss: 0.3322 - val_accuracy: 0.8565\n",
            "Epoch 49/100\n",
            "22/22 [==============================] - 0s 4ms/step - loss: 0.3094 - accuracy: 0.8705 - val_loss: 0.3311 - val_accuracy: 0.8565\n",
            "Epoch 50/100\n",
            "22/22 [==============================] - 0s 3ms/step - loss: 0.3092 - accuracy: 0.8734 - val_loss: 0.3315 - val_accuracy: 0.8565\n",
            "Epoch 51/100\n",
            "22/22 [==============================] - 0s 4ms/step - loss: 0.3090 - accuracy: 0.8719 - val_loss: 0.3319 - val_accuracy: 0.8565\n",
            "Epoch 52/100\n",
            "22/22 [==============================] - 0s 4ms/step - loss: 0.3084 - accuracy: 0.8719 - val_loss: 0.3310 - val_accuracy: 0.8565\n",
            "Epoch 53/100\n",
            "22/22 [==============================] - 0s 4ms/step - loss: 0.3082 - accuracy: 0.8719 - val_loss: 0.3300 - val_accuracy: 0.8652\n",
            "Epoch 54/100\n",
            "22/22 [==============================] - 0s 5ms/step - loss: 0.3078 - accuracy: 0.8719 - val_loss: 0.3336 - val_accuracy: 0.8522\n",
            "Epoch 55/100\n",
            "22/22 [==============================] - 0s 4ms/step - loss: 0.3075 - accuracy: 0.8734 - val_loss: 0.3316 - val_accuracy: 0.8609\n",
            "Epoch 56/100\n",
            "22/22 [==============================] - 0s 4ms/step - loss: 0.3068 - accuracy: 0.8719 - val_loss: 0.3314 - val_accuracy: 0.8609\n",
            "Epoch 57/100\n",
            "22/22 [==============================] - 0s 3ms/step - loss: 0.3063 - accuracy: 0.8748 - val_loss: 0.3301 - val_accuracy: 0.8652\n",
            "Epoch 58/100\n",
            "22/22 [==============================] - 0s 3ms/step - loss: 0.3058 - accuracy: 0.8719 - val_loss: 0.3319 - val_accuracy: 0.8565\n",
            "Epoch 59/100\n",
            "22/22 [==============================] - 0s 4ms/step - loss: 0.3054 - accuracy: 0.8734 - val_loss: 0.3302 - val_accuracy: 0.8609\n",
            "Epoch 60/100\n",
            "22/22 [==============================] - 3s 120ms/step - loss: 0.3055 - accuracy: 0.8763 - val_loss: 0.3323 - val_accuracy: 0.8652\n",
            "Epoch 61/100\n",
            "22/22 [==============================] - 0s 4ms/step - loss: 0.3047 - accuracy: 0.8705 - val_loss: 0.3306 - val_accuracy: 0.8609\n",
            "Epoch 62/100\n",
            "22/22 [==============================] - 0s 4ms/step - loss: 0.3040 - accuracy: 0.8748 - val_loss: 0.3307 - val_accuracy: 0.8652\n",
            "Epoch 63/100\n",
            "22/22 [==============================] - 0s 3ms/step - loss: 0.3038 - accuracy: 0.8748 - val_loss: 0.3297 - val_accuracy: 0.8652\n",
            "Epoch 64/100\n",
            "22/22 [==============================] - 0s 4ms/step - loss: 0.3030 - accuracy: 0.8734 - val_loss: 0.3305 - val_accuracy: 0.8609\n",
            "Epoch 65/100\n",
            "22/22 [==============================] - 0s 3ms/step - loss: 0.3025 - accuracy: 0.8777 - val_loss: 0.3324 - val_accuracy: 0.8565\n",
            "Epoch 66/100\n",
            "22/22 [==============================] - 0s 3ms/step - loss: 0.3022 - accuracy: 0.8705 - val_loss: 0.3303 - val_accuracy: 0.8609\n",
            "Epoch 67/100\n",
            "22/22 [==============================] - 0s 5ms/step - loss: 0.3016 - accuracy: 0.8734 - val_loss: 0.3310 - val_accuracy: 0.8609\n",
            "Epoch 68/100\n",
            "22/22 [==============================] - 0s 4ms/step - loss: 0.3011 - accuracy: 0.8763 - val_loss: 0.3316 - val_accuracy: 0.8565\n",
            "Epoch 69/100\n",
            "22/22 [==============================] - 0s 4ms/step - loss: 0.3012 - accuracy: 0.8734 - val_loss: 0.3292 - val_accuracy: 0.8652\n",
            "Epoch 70/100\n",
            "22/22 [==============================] - 0s 4ms/step - loss: 0.3000 - accuracy: 0.8763 - val_loss: 0.3314 - val_accuracy: 0.8609\n",
            "Epoch 71/100\n",
            "22/22 [==============================] - 0s 4ms/step - loss: 0.2994 - accuracy: 0.8777 - val_loss: 0.3311 - val_accuracy: 0.8609\n",
            "Epoch 72/100\n",
            "22/22 [==============================] - 0s 4ms/step - loss: 0.2991 - accuracy: 0.8792 - val_loss: 0.3318 - val_accuracy: 0.8565\n",
            "Epoch 73/100\n",
            "22/22 [==============================] - 0s 4ms/step - loss: 0.2984 - accuracy: 0.8806 - val_loss: 0.3307 - val_accuracy: 0.8609\n",
            "Epoch 74/100\n",
            "22/22 [==============================] - 3s 146ms/step - loss: 0.2981 - accuracy: 0.8777 - val_loss: 0.3306 - val_accuracy: 0.8609\n",
            "Epoch 75/100\n",
            "22/22 [==============================] - 0s 4ms/step - loss: 0.2980 - accuracy: 0.8806 - val_loss: 0.3301 - val_accuracy: 0.8609\n",
            "Epoch 76/100\n",
            "22/22 [==============================] - 0s 4ms/step - loss: 0.2968 - accuracy: 0.8763 - val_loss: 0.3287 - val_accuracy: 0.8609\n",
            "Epoch 77/100\n",
            "22/22 [==============================] - 0s 4ms/step - loss: 0.2966 - accuracy: 0.8734 - val_loss: 0.3294 - val_accuracy: 0.8652\n",
            "Epoch 78/100\n",
            "22/22 [==============================] - 0s 4ms/step - loss: 0.2958 - accuracy: 0.8792 - val_loss: 0.3299 - val_accuracy: 0.8652\n",
            "Epoch 79/100\n",
            "22/22 [==============================] - 0s 4ms/step - loss: 0.2955 - accuracy: 0.8806 - val_loss: 0.3306 - val_accuracy: 0.8609\n",
            "Epoch 80/100\n",
            "22/22 [==============================] - 0s 5ms/step - loss: 0.2950 - accuracy: 0.8806 - val_loss: 0.3289 - val_accuracy: 0.8609\n",
            "Epoch 81/100\n",
            "22/22 [==============================] - 0s 4ms/step - loss: 0.2942 - accuracy: 0.8806 - val_loss: 0.3295 - val_accuracy: 0.8652\n",
            "Epoch 82/100\n",
            "22/22 [==============================] - 0s 3ms/step - loss: 0.2939 - accuracy: 0.8806 - val_loss: 0.3281 - val_accuracy: 0.8652\n",
            "Epoch 83/100\n",
            "22/22 [==============================] - 0s 3ms/step - loss: 0.2937 - accuracy: 0.8821 - val_loss: 0.3279 - val_accuracy: 0.8652\n",
            "Epoch 84/100\n",
            "22/22 [==============================] - 0s 4ms/step - loss: 0.2932 - accuracy: 0.8836 - val_loss: 0.3278 - val_accuracy: 0.8652\n",
            "Epoch 85/100\n",
            "22/22 [==============================] - 0s 4ms/step - loss: 0.2925 - accuracy: 0.8821 - val_loss: 0.3271 - val_accuracy: 0.8609\n",
            "Epoch 86/100\n",
            "22/22 [==============================] - 0s 4ms/step - loss: 0.2926 - accuracy: 0.8821 - val_loss: 0.3288 - val_accuracy: 0.8652\n",
            "Epoch 87/100\n",
            "22/22 [==============================] - 0s 4ms/step - loss: 0.2914 - accuracy: 0.8821 - val_loss: 0.3264 - val_accuracy: 0.8652\n",
            "Epoch 88/100\n",
            "22/22 [==============================] - 0s 4ms/step - loss: 0.2909 - accuracy: 0.8821 - val_loss: 0.3277 - val_accuracy: 0.8652\n",
            "Epoch 89/100\n",
            "22/22 [==============================] - 0s 3ms/step - loss: 0.2902 - accuracy: 0.8821 - val_loss: 0.3268 - val_accuracy: 0.8609\n",
            "Epoch 90/100\n",
            "22/22 [==============================] - 3s 146ms/step - loss: 0.2899 - accuracy: 0.8865 - val_loss: 0.3265 - val_accuracy: 0.8565\n",
            "Epoch 91/100\n",
            "22/22 [==============================] - 0s 4ms/step - loss: 0.2893 - accuracy: 0.8865 - val_loss: 0.3258 - val_accuracy: 0.8652\n",
            "Epoch 92/100\n",
            "22/22 [==============================] - 0s 4ms/step - loss: 0.2884 - accuracy: 0.8821 - val_loss: 0.3268 - val_accuracy: 0.8652\n",
            "Epoch 93/100\n",
            "22/22 [==============================] - 0s 4ms/step - loss: 0.2882 - accuracy: 0.8850 - val_loss: 0.3250 - val_accuracy: 0.8609\n",
            "Epoch 94/100\n",
            "22/22 [==============================] - 0s 4ms/step - loss: 0.2879 - accuracy: 0.8865 - val_loss: 0.3266 - val_accuracy: 0.8609\n",
            "Epoch 95/100\n",
            "22/22 [==============================] - 0s 4ms/step - loss: 0.2873 - accuracy: 0.8879 - val_loss: 0.3240 - val_accuracy: 0.8609\n",
            "Epoch 96/100\n",
            "22/22 [==============================] - 0s 4ms/step - loss: 0.2865 - accuracy: 0.8879 - val_loss: 0.3245 - val_accuracy: 0.8652\n",
            "Epoch 97/100\n",
            "22/22 [==============================] - 0s 4ms/step - loss: 0.2861 - accuracy: 0.8879 - val_loss: 0.3248 - val_accuracy: 0.8565\n",
            "Epoch 98/100\n",
            "22/22 [==============================] - 0s 4ms/step - loss: 0.2856 - accuracy: 0.8865 - val_loss: 0.3237 - val_accuracy: 0.8652\n",
            "Epoch 99/100\n",
            "22/22 [==============================] - 0s 3ms/step - loss: 0.2851 - accuracy: 0.8879 - val_loss: 0.3237 - val_accuracy: 0.8609\n",
            "Epoch 100/100\n",
            "22/22 [==============================] - 0s 3ms/step - loss: 0.2857 - accuracy: 0.8865 - val_loss: 0.3220 - val_accuracy: 0.8783\n"
          ]
        }
      ]
    },
    {
      "cell_type": "code",
      "source": [
        "# Plot the history of the second model\n",
        "plot_hist(history2, 'accuracy')"
      ],
      "metadata": {
        "colab": {
          "base_uri": "https://localhost:8080/",
          "height": 499
        },
        "id": "r65CqL6z3Wyz",
        "outputId": "4f5f9a14-57da-4f1e-f5b3-c62da9455972"
      },
      "execution_count": 172,
      "outputs": [
        {
          "output_type": "display_data",
          "data": {
            "image/png": "[encoded data removed]",
            "text/plain": [
              "<Figure size 576x576 with 2 Axes>"
            ]
          },
          "metadata": {
            "needs_background": "light"
          }
        }
      ]
    },
    {
      "cell_type": "code",
      "source": [
        "# Make predictions and evaluate your model\n",
        "model_2_pred = np.rint(heart_model2.predict(X_test_transformed))\n",
        "print(classification_report(y_test, model_2_pred))"
      ],
      "metadata": {
        "colab": {
          "base_uri": "https://localhost:8080/"
        },
        "id": "IrwBuiRg3iqP",
        "outputId": "0334081b-9ebf-4599-d9cd-90eafaa14a17"
      },
      "execution_count": 173,
      "outputs": [
        {
          "output_type": "stream",
          "name": "stdout",
          "text": [
            "              precision    recall  f1-score   support\n",
            "\n",
            "           0       0.92      0.84      0.88       119\n",
            "           1       0.84      0.92      0.88       111\n",
            "\n",
            "    accuracy                           0.88       230\n",
            "   macro avg       0.88      0.88      0.88       230\n",
            "weighted avg       0.88      0.88      0.88       230\n",
            "\n"
          ]
        }
      ]
    },
    {
      "cell_type": "markdown",
      "source": [
        "A third layer with 4 nuerons imroved our accuracy score to 88. Let's add a 4th hidden layer with 2 nuerons to see if we can get closer to 90."
      ],
      "metadata": {
        "id": "SxFkav5b35yG"
      }
    },
    {
      "cell_type": "code",
      "source": [
        "# Version 3\n",
        "heart_model3 = Sequential()\n",
        "\n",
        "# First Hiddent Layer\n",
        "heart_model3(Dense(11, input_dim = input_shape, activation = 'relu'))\n",
        "\n",
        "# Second Hidden Layer\n",
        "heart_model3.add(Dense(8, activation = 'relu'))\n",
        "\n",
        "# Third Hidden Layer\n",
        "heart_model3.add(Dense(4, activation = 'relu'))\n",
        "\n",
        "# Fourth Hidden Layer\n",
        "heart_model3.add(Dense(2, activation = 'relu'))\n",
        "\n",
        "# Output layer\n",
        "heart_model3.add(Dense(1, activation = 'sigmoid'))"
      ],
      "metadata": {
        "colab": {
          "base_uri": "https://localhost:8080/"
        },
        "id": "xTsQBOUd5daU",
        "outputId": "347cadc4-0388-4007-9129-940542a6e00f"
      },
      "execution_count": 179,
      "outputs": [
        {
          "output_type": "stream",
          "name": "stdout",
          "text": [
            "WARNING:tensorflow:Layers in a Sequential model should only have a single input tensor. Received: inputs=<keras.layers.core.dense.Dense object at 0x7f143ba86810>. Consider rewriting this model with the Functional API.\n"
          ]
        }
      ]
    },
    {
      "cell_type": "code",
      "source": [
        "# Compile the model\n",
        "heart_model3.compile(loss = 'bce', optimizer= 'adam', metrics = ['accuracy'])"
      ],
      "metadata": {
        "id": "PJcTDz4m5maz"
      },
      "execution_count": 180,
      "outputs": []
    },
    {
      "cell_type": "code",
      "source": [
        "# Fit the model\n",
        "history3 = heart_model3.fit(X_train_tramsformed, y_train,\n",
        "                            validation_data = (X_test_transformed, y_test),\n",
        "                            epochs = 100)"
      ],
      "metadata": {
        "colab": {
          "base_uri": "https://localhost:8080/"
        },
        "id": "pqlcBAzw6hVD",
        "outputId": "d4a43e8f-3d20-46dc-995f-35454f9a26a3"
      },
      "execution_count": 181,
      "outputs": [
        {
          "output_type": "stream",
          "name": "stdout",
          "text": [
            "Epoch 1/100\n",
            "22/22 [==============================] - 3s 118ms/step - loss: 0.6768 - accuracy: 0.5633 - val_loss: 0.6847 - val_accuracy: 0.4826\n",
            "Epoch 2/100\n",
            "22/22 [==============================] - 0s 4ms/step - loss: 0.6568 - accuracy: 0.5764 - val_loss: 0.6665 - val_accuracy: 0.4826\n",
            "Epoch 3/100\n",
            "22/22 [==============================] - 0s 3ms/step - loss: 0.6324 - accuracy: 0.5764 - val_loss: 0.6443 - val_accuracy: 0.4826\n",
            "Epoch 4/100\n",
            "22/22 [==============================] - 0s 4ms/step - loss: 0.6054 - accuracy: 0.5764 - val_loss: 0.6206 - val_accuracy: 0.4826\n",
            "Epoch 5/100\n",
            "22/22 [==============================] - 3s 125ms/step - loss: 0.5775 - accuracy: 0.5764 - val_loss: 0.5988 - val_accuracy: 0.4826\n",
            "Epoch 6/100\n",
            "22/22 [==============================] - 0s 4ms/step - loss: 0.5518 - accuracy: 0.5895 - val_loss: 0.5811 - val_accuracy: 0.6652\n",
            "Epoch 7/100\n",
            "22/22 [==============================] - 0s 4ms/step - loss: 0.5299 - accuracy: 0.7627 - val_loss: 0.5656 - val_accuracy: 0.7043\n",
            "Epoch 8/100\n",
            "22/22 [==============================] - 0s 4ms/step - loss: 0.5129 - accuracy: 0.7831 - val_loss: 0.5535 - val_accuracy: 0.7435\n",
            "Epoch 9/100\n",
            "22/22 [==============================] - 0s 3ms/step - loss: 0.4994 - accuracy: 0.7948 - val_loss: 0.5418 - val_accuracy: 0.7913\n",
            "Epoch 10/100\n",
            "22/22 [==============================] - 0s 5ms/step - loss: 0.4890 - accuracy: 0.8108 - val_loss: 0.5323 - val_accuracy: 0.8000\n",
            "Epoch 11/100\n",
            "22/22 [==============================] - 0s 4ms/step - loss: 0.4797 - accuracy: 0.8224 - val_loss: 0.5238 - val_accuracy: 0.8348\n",
            "Epoch 12/100\n",
            "22/22 [==============================] - 0s 4ms/step - loss: 0.4721 - accuracy: 0.8253 - val_loss: 0.5173 - val_accuracy: 0.8391\n",
            "Epoch 13/100\n",
            "22/22 [==============================] - 0s 5ms/step - loss: 0.4655 - accuracy: 0.8282 - val_loss: 0.5115 - val_accuracy: 0.8478\n",
            "Epoch 14/100\n",
            "22/22 [==============================] - 0s 4ms/step - loss: 0.4595 - accuracy: 0.8355 - val_loss: 0.5061 - val_accuracy: 0.8478\n",
            "Epoch 15/100\n",
            "22/22 [==============================] - 0s 5ms/step - loss: 0.4537 - accuracy: 0.8486 - val_loss: 0.5007 - val_accuracy: 0.8478\n",
            "Epoch 16/100\n",
            "22/22 [==============================] - 0s 5ms/step - loss: 0.4486 - accuracy: 0.8544 - val_loss: 0.4963 - val_accuracy: 0.8478\n",
            "Epoch 17/100\n",
            "22/22 [==============================] - 0s 5ms/step - loss: 0.4441 - accuracy: 0.8603 - val_loss: 0.4931 - val_accuracy: 0.8522\n",
            "Epoch 18/100\n",
            "22/22 [==============================] - 0s 5ms/step - loss: 0.4399 - accuracy: 0.8646 - val_loss: 0.4890 - val_accuracy: 0.8522\n",
            "Epoch 19/100\n",
            "22/22 [==============================] - 0s 5ms/step - loss: 0.4361 - accuracy: 0.8705 - val_loss: 0.4857 - val_accuracy: 0.8609\n",
            "Epoch 20/100\n",
            "22/22 [==============================] - 0s 3ms/step - loss: 0.4325 - accuracy: 0.8748 - val_loss: 0.4822 - val_accuracy: 0.8609\n",
            "Epoch 21/100\n",
            "22/22 [==============================] - 0s 3ms/step - loss: 0.4293 - accuracy: 0.8777 - val_loss: 0.4803 - val_accuracy: 0.8565\n",
            "Epoch 22/100\n",
            "22/22 [==============================] - 0s 3ms/step - loss: 0.4259 - accuracy: 0.8792 - val_loss: 0.4772 - val_accuracy: 0.8565\n",
            "Epoch 23/100\n",
            "22/22 [==============================] - 0s 4ms/step - loss: 0.4230 - accuracy: 0.8806 - val_loss: 0.4739 - val_accuracy: 0.8652\n",
            "Epoch 24/100\n",
            "22/22 [==============================] - 0s 4ms/step - loss: 0.4198 - accuracy: 0.8806 - val_loss: 0.4718 - val_accuracy: 0.8609\n",
            "Epoch 25/100\n",
            "22/22 [==============================] - 0s 4ms/step - loss: 0.4174 - accuracy: 0.8821 - val_loss: 0.4680 - val_accuracy: 0.8565\n",
            "Epoch 26/100\n",
            "22/22 [==============================] - 0s 4ms/step - loss: 0.4142 - accuracy: 0.8836 - val_loss: 0.4657 - val_accuracy: 0.8565\n",
            "Epoch 27/100\n",
            "22/22 [==============================] - 0s 4ms/step - loss: 0.4112 - accuracy: 0.8821 - val_loss: 0.4653 - val_accuracy: 0.8565\n",
            "Epoch 28/100\n",
            "22/22 [==============================] - 0s 7ms/step - loss: 0.4086 - accuracy: 0.8836 - val_loss: 0.4623 - val_accuracy: 0.8565\n",
            "Epoch 29/100\n",
            "22/22 [==============================] - 0s 4ms/step - loss: 0.4058 - accuracy: 0.8836 - val_loss: 0.4592 - val_accuracy: 0.8652\n",
            "Epoch 30/100\n",
            "22/22 [==============================] - 0s 5ms/step - loss: 0.4036 - accuracy: 0.8836 - val_loss: 0.4581 - val_accuracy: 0.8652\n",
            "Epoch 31/100\n",
            "22/22 [==============================] - 0s 4ms/step - loss: 0.4011 - accuracy: 0.8836 - val_loss: 0.4568 - val_accuracy: 0.8652\n",
            "Epoch 32/100\n",
            "22/22 [==============================] - 0s 4ms/step - loss: 0.3986 - accuracy: 0.8836 - val_loss: 0.4539 - val_accuracy: 0.8652\n",
            "Epoch 33/100\n",
            "22/22 [==============================] - 0s 4ms/step - loss: 0.3967 - accuracy: 0.8836 - val_loss: 0.4527 - val_accuracy: 0.8652\n",
            "Epoch 34/100\n",
            "22/22 [==============================] - 0s 4ms/step - loss: 0.3937 - accuracy: 0.8836 - val_loss: 0.4492 - val_accuracy: 0.8696\n",
            "Epoch 35/100\n",
            "22/22 [==============================] - 0s 5ms/step - loss: 0.3914 - accuracy: 0.8836 - val_loss: 0.4489 - val_accuracy: 0.8652\n",
            "Epoch 36/100\n",
            "22/22 [==============================] - 0s 4ms/step - loss: 0.3894 - accuracy: 0.8836 - val_loss: 0.4463 - val_accuracy: 0.8652\n",
            "Epoch 37/100\n",
            "22/22 [==============================] - 0s 3ms/step - loss: 0.3873 - accuracy: 0.8836 - val_loss: 0.4455 - val_accuracy: 0.8652\n",
            "Epoch 38/100\n",
            "22/22 [==============================] - 0s 4ms/step - loss: 0.3847 - accuracy: 0.8836 - val_loss: 0.4448 - val_accuracy: 0.8652\n",
            "Epoch 39/100\n",
            "22/22 [==============================] - 0s 4ms/step - loss: 0.3824 - accuracy: 0.8836 - val_loss: 0.4437 - val_accuracy: 0.8652\n",
            "Epoch 40/100\n",
            "22/22 [==============================] - 0s 4ms/step - loss: 0.3807 - accuracy: 0.8850 - val_loss: 0.4412 - val_accuracy: 0.8609\n",
            "Epoch 41/100\n",
            "22/22 [==============================] - 0s 3ms/step - loss: 0.3785 - accuracy: 0.8836 - val_loss: 0.4402 - val_accuracy: 0.8652\n",
            "Epoch 42/100\n",
            "22/22 [==============================] - 0s 4ms/step - loss: 0.3763 - accuracy: 0.8850 - val_loss: 0.4397 - val_accuracy: 0.8652\n",
            "Epoch 43/100\n",
            "22/22 [==============================] - 3s 149ms/step - loss: 0.3744 - accuracy: 0.8879 - val_loss: 0.4371 - val_accuracy: 0.8652\n",
            "Epoch 44/100\n",
            "22/22 [==============================] - 0s 4ms/step - loss: 0.3722 - accuracy: 0.8894 - val_loss: 0.4370 - val_accuracy: 0.8652\n",
            "Epoch 45/100\n",
            "22/22 [==============================] - 0s 4ms/step - loss: 0.3704 - accuracy: 0.8850 - val_loss: 0.4360 - val_accuracy: 0.8652\n",
            "Epoch 46/100\n",
            "22/22 [==============================] - 0s 4ms/step - loss: 0.3685 - accuracy: 0.8908 - val_loss: 0.4353 - val_accuracy: 0.8652\n",
            "Epoch 47/100\n",
            "22/22 [==============================] - 0s 5ms/step - loss: 0.3664 - accuracy: 0.8894 - val_loss: 0.4340 - val_accuracy: 0.8652\n",
            "Epoch 48/100\n",
            "22/22 [==============================] - 0s 5ms/step - loss: 0.3646 - accuracy: 0.8865 - val_loss: 0.4333 - val_accuracy: 0.8652\n",
            "Epoch 49/100\n",
            "22/22 [==============================] - 0s 4ms/step - loss: 0.3627 - accuracy: 0.8908 - val_loss: 0.4327 - val_accuracy: 0.8652\n",
            "Epoch 50/100\n",
            "22/22 [==============================] - 0s 3ms/step - loss: 0.3609 - accuracy: 0.8894 - val_loss: 0.4310 - val_accuracy: 0.8609\n",
            "Epoch 51/100\n",
            "22/22 [==============================] - 0s 5ms/step - loss: 0.3591 - accuracy: 0.8923 - val_loss: 0.4308 - val_accuracy: 0.8609\n",
            "Epoch 52/100\n",
            "22/22 [==============================] - 0s 4ms/step - loss: 0.3574 - accuracy: 0.8908 - val_loss: 0.4302 - val_accuracy: 0.8652\n",
            "Epoch 53/100\n",
            "22/22 [==============================] - 0s 4ms/step - loss: 0.3550 - accuracy: 0.8908 - val_loss: 0.4291 - val_accuracy: 0.8609\n",
            "Epoch 54/100\n",
            "22/22 [==============================] - 0s 4ms/step - loss: 0.3540 - accuracy: 0.8908 - val_loss: 0.4300 - val_accuracy: 0.8652\n",
            "Epoch 55/100\n",
            "22/22 [==============================] - 0s 4ms/step - loss: 0.3516 - accuracy: 0.8908 - val_loss: 0.4279 - val_accuracy: 0.8609\n",
            "Epoch 56/100\n",
            "22/22 [==============================] - 0s 4ms/step - loss: 0.3502 - accuracy: 0.8908 - val_loss: 0.4268 - val_accuracy: 0.8609\n",
            "Epoch 57/100\n",
            "22/22 [==============================] - 0s 5ms/step - loss: 0.3481 - accuracy: 0.8908 - val_loss: 0.4275 - val_accuracy: 0.8609\n",
            "Epoch 58/100\n",
            "22/22 [==============================] - 0s 3ms/step - loss: 0.3466 - accuracy: 0.8908 - val_loss: 0.4274 - val_accuracy: 0.8565\n",
            "Epoch 59/100\n",
            "22/22 [==============================] - 0s 3ms/step - loss: 0.3451 - accuracy: 0.8908 - val_loss: 0.4281 - val_accuracy: 0.8522\n",
            "Epoch 60/100\n",
            "22/22 [==============================] - 0s 4ms/step - loss: 0.3435 - accuracy: 0.8908 - val_loss: 0.4258 - val_accuracy: 0.8565\n",
            "Epoch 61/100\n",
            "22/22 [==============================] - 0s 4ms/step - loss: 0.3411 - accuracy: 0.8908 - val_loss: 0.4273 - val_accuracy: 0.8522\n",
            "Epoch 62/100\n",
            "22/22 [==============================] - 0s 4ms/step - loss: 0.3395 - accuracy: 0.8908 - val_loss: 0.4277 - val_accuracy: 0.8522\n",
            "Epoch 63/100\n",
            "22/22 [==============================] - 0s 4ms/step - loss: 0.3391 - accuracy: 0.8908 - val_loss: 0.4282 - val_accuracy: 0.8522\n",
            "Epoch 64/100\n",
            "22/22 [==============================] - 0s 4ms/step - loss: 0.3359 - accuracy: 0.8923 - val_loss: 0.4277 - val_accuracy: 0.8522\n",
            "Epoch 65/100\n",
            "22/22 [==============================] - 0s 3ms/step - loss: 0.3346 - accuracy: 0.8937 - val_loss: 0.4296 - val_accuracy: 0.8522\n",
            "Epoch 66/100\n",
            "22/22 [==============================] - 0s 4ms/step - loss: 0.3326 - accuracy: 0.8908 - val_loss: 0.4286 - val_accuracy: 0.8478\n",
            "Epoch 67/100\n",
            "22/22 [==============================] - 0s 3ms/step - loss: 0.3309 - accuracy: 0.8923 - val_loss: 0.4294 - val_accuracy: 0.8478\n",
            "Epoch 68/100\n",
            "22/22 [==============================] - 0s 4ms/step - loss: 0.3289 - accuracy: 0.8937 - val_loss: 0.4289 - val_accuracy: 0.8478\n",
            "Epoch 69/100\n",
            "22/22 [==============================] - 0s 3ms/step - loss: 0.3276 - accuracy: 0.8937 - val_loss: 0.4300 - val_accuracy: 0.8478\n",
            "Epoch 70/100\n",
            "22/22 [==============================] - 0s 3ms/step - loss: 0.3255 - accuracy: 0.8908 - val_loss: 0.4280 - val_accuracy: 0.8478\n",
            "Epoch 71/100\n",
            "22/22 [==============================] - 0s 4ms/step - loss: 0.3242 - accuracy: 0.8923 - val_loss: 0.4300 - val_accuracy: 0.8478\n",
            "Epoch 72/100\n",
            "22/22 [==============================] - 3s 122ms/step - loss: 0.3231 - accuracy: 0.8937 - val_loss: 0.4304 - val_accuracy: 0.8435\n",
            "Epoch 73/100\n",
            "22/22 [==============================] - 0s 4ms/step - loss: 0.3207 - accuracy: 0.8937 - val_loss: 0.4299 - val_accuracy: 0.8478\n",
            "Epoch 74/100\n",
            "22/22 [==============================] - 0s 5ms/step - loss: 0.3196 - accuracy: 0.8923 - val_loss: 0.4307 - val_accuracy: 0.8478\n",
            "Epoch 75/100\n",
            "22/22 [==============================] - 0s 4ms/step - loss: 0.3178 - accuracy: 0.8937 - val_loss: 0.4313 - val_accuracy: 0.8478\n",
            "Epoch 76/100\n",
            "22/22 [==============================] - 0s 6ms/step - loss: 0.3168 - accuracy: 0.8967 - val_loss: 0.4319 - val_accuracy: 0.8478\n",
            "Epoch 77/100\n",
            "22/22 [==============================] - 0s 4ms/step - loss: 0.3153 - accuracy: 0.8923 - val_loss: 0.4336 - val_accuracy: 0.8435\n",
            "Epoch 78/100\n",
            "22/22 [==============================] - 0s 4ms/step - loss: 0.3133 - accuracy: 0.8981 - val_loss: 0.4343 - val_accuracy: 0.8435\n",
            "Epoch 79/100\n",
            "22/22 [==============================] - 0s 5ms/step - loss: 0.3119 - accuracy: 0.8981 - val_loss: 0.4322 - val_accuracy: 0.8522\n",
            "Epoch 80/100\n",
            "22/22 [==============================] - 3s 121ms/step - loss: 0.3109 - accuracy: 0.8967 - val_loss: 0.4333 - val_accuracy: 0.8522\n",
            "Epoch 81/100\n",
            "22/22 [==============================] - 0s 4ms/step - loss: 0.3097 - accuracy: 0.8981 - val_loss: 0.4361 - val_accuracy: 0.8435\n",
            "Epoch 82/100\n",
            "22/22 [==============================] - 0s 3ms/step - loss: 0.3089 - accuracy: 0.8952 - val_loss: 0.4340 - val_accuracy: 0.8522\n",
            "Epoch 83/100\n",
            "22/22 [==============================] - 0s 4ms/step - loss: 0.3065 - accuracy: 0.8981 - val_loss: 0.4346 - val_accuracy: 0.8522\n",
            "Epoch 84/100\n",
            "22/22 [==============================] - 0s 4ms/step - loss: 0.3053 - accuracy: 0.8996 - val_loss: 0.4363 - val_accuracy: 0.8522\n",
            "Epoch 85/100\n",
            "22/22 [==============================] - 0s 4ms/step - loss: 0.3039 - accuracy: 0.8981 - val_loss: 0.4380 - val_accuracy: 0.8478\n",
            "Epoch 86/100\n",
            "22/22 [==============================] - 0s 5ms/step - loss: 0.3032 - accuracy: 0.8981 - val_loss: 0.4372 - val_accuracy: 0.8522\n",
            "Epoch 87/100\n",
            "22/22 [==============================] - 0s 3ms/step - loss: 0.3016 - accuracy: 0.9010 - val_loss: 0.4384 - val_accuracy: 0.8478\n",
            "Epoch 88/100\n",
            "22/22 [==============================] - 0s 3ms/step - loss: 0.3003 - accuracy: 0.8981 - val_loss: 0.4392 - val_accuracy: 0.8435\n",
            "Epoch 89/100\n",
            "22/22 [==============================] - 0s 3ms/step - loss: 0.2990 - accuracy: 0.9010 - val_loss: 0.4402 - val_accuracy: 0.8435\n",
            "Epoch 90/100\n",
            "22/22 [==============================] - 0s 4ms/step - loss: 0.2983 - accuracy: 0.8996 - val_loss: 0.4404 - val_accuracy: 0.8478\n",
            "Epoch 91/100\n",
            "22/22 [==============================] - 0s 4ms/step - loss: 0.2970 - accuracy: 0.8996 - val_loss: 0.4425 - val_accuracy: 0.8435\n",
            "Epoch 92/100\n",
            "22/22 [==============================] - 0s 3ms/step - loss: 0.2957 - accuracy: 0.8996 - val_loss: 0.4429 - val_accuracy: 0.8435\n",
            "Epoch 93/100\n",
            "22/22 [==============================] - 0s 4ms/step - loss: 0.2952 - accuracy: 0.8937 - val_loss: 0.4432 - val_accuracy: 0.8435\n",
            "Epoch 94/100\n",
            "22/22 [==============================] - 0s 4ms/step - loss: 0.2934 - accuracy: 0.8996 - val_loss: 0.4450 - val_accuracy: 0.8435\n",
            "Epoch 95/100\n",
            "22/22 [==============================] - 0s 4ms/step - loss: 0.2926 - accuracy: 0.9025 - val_loss: 0.4459 - val_accuracy: 0.8435\n",
            "Epoch 96/100\n",
            "22/22 [==============================] - 0s 4ms/step - loss: 0.2917 - accuracy: 0.8996 - val_loss: 0.4473 - val_accuracy: 0.8435\n",
            "Epoch 97/100\n",
            "22/22 [==============================] - 0s 4ms/step - loss: 0.2912 - accuracy: 0.8967 - val_loss: 0.4485 - val_accuracy: 0.8435\n",
            "Epoch 98/100\n",
            "22/22 [==============================] - 0s 4ms/step - loss: 0.2899 - accuracy: 0.8996 - val_loss: 0.4473 - val_accuracy: 0.8435\n",
            "Epoch 99/100\n",
            "22/22 [==============================] - 0s 4ms/step - loss: 0.2884 - accuracy: 0.9025 - val_loss: 0.4476 - val_accuracy: 0.8435\n",
            "Epoch 100/100\n",
            "22/22 [==============================] - 0s 4ms/step - loss: 0.2870 - accuracy: 0.8996 - val_loss: 0.4484 - val_accuracy: 0.8478\n"
          ]
        }
      ]
    },
    {
      "cell_type": "code",
      "source": [
        "# Plot the model\n",
        "plot_hist(history3, 'accuracy')"
      ],
      "metadata": {
        "colab": {
          "base_uri": "https://localhost:8080/",
          "height": 499
        },
        "id": "m3CC4sDG6xwg",
        "outputId": "42498ae7-9856-4770-b9bc-f190730d91f2"
      },
      "execution_count": 182,
      "outputs": [
        {
          "output_type": "display_data",
          "data": {
            "image/png": "[encoded data removed]",
            "text/plain": [
              "<Figure size 576x576 with 2 Axes>"
            ]
          },
          "metadata": {
            "needs_background": "light"
          }
        }
      ]
    },
    {
      "cell_type": "code",
      "source": [
        "model_3_pred = np.rint(heart_model3.predict(X_test_transformed))\n",
        "print(classification_report(y_test, model_3_pred))"
      ],
      "metadata": {
        "colab": {
          "base_uri": "https://localhost:8080/"
        },
        "id": "VeqcIva661rV",
        "outputId": "c5021f93-f3f8-4e0e-b662-97d23ec90874"
      },
      "execution_count": 183,
      "outputs": [
        {
          "output_type": "stream",
          "name": "stdout",
          "text": [
            "              precision    recall  f1-score   support\n",
            "\n",
            "           0       0.84      0.87      0.85       119\n",
            "           1       0.85      0.83      0.84       111\n",
            "\n",
            "    accuracy                           0.85       230\n",
            "   macro avg       0.85      0.85      0.85       230\n",
            "weighted avg       0.85      0.85      0.85       230\n",
            "\n"
          ]
        }
      ]
    },
    {
      "cell_type": "markdown",
      "source": [
        "Adding a fourth hidden layer of 2 nuerons actually decreased the accuracy score from 88% to 85%."
      ],
      "metadata": {
        "id": "mOQZ1ZNS70ET"
      }
    }
  ]
}